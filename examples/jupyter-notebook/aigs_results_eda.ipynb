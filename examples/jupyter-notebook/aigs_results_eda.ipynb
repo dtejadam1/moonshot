{
 "cells": [
  {
   "cell_type": "markdown",
   "metadata": {},
   "source": [
    "# Import Dependecies"
   ]
  },
  {
   "cell_type": "code",
   "execution_count": 42,
   "metadata": {},
   "outputs": [],
   "source": [
    "import json\n",
    "import pandas as pd\n",
    "import matplotlib.pyplot as plt\n",
    "import seaborn as sns\n",
    "import numpy as np\n",
    "from collections import defaultdict\n",
    "import os"
   ]
  },
  {
   "cell_type": "markdown",
   "metadata": {},
   "source": [
    "# Load JSON file"
   ]
  },
  {
   "cell_type": "code",
   "execution_count": 2,
   "metadata": {},
   "outputs": [],
   "source": [
    "def load_json_data(file_path):\n",
    "    \"\"\"Load JSON data from file\"\"\"\n",
    "    with open(file_path, 'r', encoding='utf-8') as f:\n",
    "        data = json.load(f)\n",
    "    return data"
   ]
  },
  {
   "cell_type": "markdown",
   "metadata": {},
   "source": [
    "# Moonshot Metrics"
   ]
  },
  {
   "cell_type": "markdown",
   "metadata": {},
   "source": [
    "## ExactStrMatch\n",
    "ExactStrMatch will compare the output from language model with a single target or multiple expected target."
   ]
  },
  {
   "cell_type": "code",
   "execution_count": 3,
   "metadata": {},
   "outputs": [],
   "source": [
    "def extract_exactstrmatch_metrics(data):\n",
    "    \"\"\"Extract exactstrmatch metrics from the JSON structure\"\"\"\n",
    "    all_exactstrmatch_metrics = []\n",
    "    \n",
    "    # Process each cookbook\n",
    "    for cookbook in data.get('results', {}).get('cookbooks', []):\n",
    "        cookbook_id = cookbook.get('id', 'unknown')\n",
    "        \n",
    "        # Process each recipe in the cookbook\n",
    "        for recipe in cookbook.get('recipes', []):\n",
    "            recipe_id = recipe.get('id', 'unknown')\n",
    "            \n",
    "            # Process details for each recipe\n",
    "            for detail in recipe.get('details', []):\n",
    "                model_id = detail.get('model_id', 'unknown')\n",
    "                dataset_id = detail.get('dataset_id', 'unknown')\n",
    "                \n",
    "                # Process metrics if available\n",
    "                metrics_data = detail.get('metrics', [])\n",
    "                for metric_item in metrics_data:\n",
    "                    # Extract exactstrmatch metrics specifically\n",
    "                    if 'exactstrmatch' in metric_item:\n",
    "                        exactstrmatch = metric_item['exactstrmatch']\n",
    "                        \n",
    "                        # Extract the accuracy metric\n",
    "                        if 'accuracy' in exactstrmatch and isinstance(exactstrmatch['accuracy'], (int, float)):\n",
    "                            all_exactstrmatch_metrics.append({\n",
    "                                'cookbook_id': cookbook_id,\n",
    "                                'recipe_id': recipe_id,\n",
    "                                'model_id': model_id,\n",
    "                                'dataset_id': dataset_id,\n",
    "                                'metric_name': 'exactstrmatch_accuracy',\n",
    "                                'value': exactstrmatch['accuracy']\n",
    "                            })\n",
    "                        \n",
    "                        # You could also extract the count of successful/unsuccessful items if needed\n",
    "                        if 'individual_scores' in exactstrmatch:\n",
    "                            if 'unsuccessful' in exactstrmatch['individual_scores']:\n",
    "                                unsuccessful_count = len(exactstrmatch['individual_scores']['unsuccessful'])\n",
    "                                all_exactstrmatch_metrics.append({\n",
    "                                    'cookbook_id': cookbook_id,\n",
    "                                    'recipe_id': recipe_id,\n",
    "                                    'model_id': model_id,\n",
    "                                    'dataset_id': dataset_id,\n",
    "                                    'metric_name': 'exactstrmatch_unsuccessful_count',\n",
    "                                    'value': unsuccessful_count\n",
    "                                })\n",
    "                            \n",
    "                            if 'successful' in exactstrmatch['individual_scores']:\n",
    "                                successful_count = len(exactstrmatch['individual_scores']['successful'])\n",
    "                                all_exactstrmatch_metrics.append({\n",
    "                                    'cookbook_id': cookbook_id,\n",
    "                                    'recipe_id': recipe_id,\n",
    "                                    'model_id': model_id,\n",
    "                                    'dataset_id': dataset_id,\n",
    "                                    'metric_name': 'exactstrmatch_successful_count',\n",
    "                                    'value': successful_count\n",
    "                                })\n",
    "    \n",
    "    return pd.DataFrame(all_exactstrmatch_metrics) if all_exactstrmatch_metrics else pd.DataFrame()"
   ]
  },
  {
   "cell_type": "markdown",
   "metadata": {},
   "source": [
    "## BertScore\n",
    "BertScore uses Bert to check for the similarity in embedding between two sentences."
   ]
  },
  {
   "cell_type": "code",
   "execution_count": 4,
   "metadata": {},
   "outputs": [],
   "source": [
    "def extract_bertscore_metrics(data):\n",
    "    \"\"\"Extract BERTScore metrics from the recipe JSON structure\"\"\"\n",
    "    all_metrics = []\n",
    "    \n",
    "    # Process each cookbook\n",
    "    for cookbook in data.get('results', {}).get('cookbooks', []):\n",
    "        cookbook_id = cookbook.get('id', 'unknown')\n",
    "        \n",
    "        # Process each recipe in the cookbook\n",
    "        for recipe in cookbook.get('recipes', []):\n",
    "            recipe_id = recipe.get('id', 'unknown')\n",
    "            \n",
    "            # Process details for each recipe\n",
    "            for detail in recipe.get('details', []):\n",
    "                model_id = detail.get('model_id', 'unknown')\n",
    "                dataset_id = detail.get('dataset_id', 'unknown')\n",
    "                \n",
    "                # Process metrics if available\n",
    "                metrics_data = detail.get('metrics', [])\n",
    "                for metric_item in metrics_data:\n",
    "                    # Extract BERTScore metrics specifically\n",
    "                    if 'bertscore' in metric_item:\n",
    "                        bertscore = metric_item['bertscore']\n",
    "                        \n",
    "                        # Extract the top-level metrics (not individual scores)\n",
    "                        for key, value in bertscore.items():\n",
    "                            if key != 'individual_scores' and isinstance(value, (int, float)):\n",
    "                                all_metrics.append({\n",
    "                                    'cookbook_id': cookbook_id,\n",
    "                                    'recipe_id': recipe_id,\n",
    "                                    'model_id': model_id,\n",
    "                                    'dataset_id': dataset_id,\n",
    "                                    'metric_name': f\"bertscore_{key}\",\n",
    "                                    'value': value\n",
    "                                })\n",
    "    \n",
    "    return pd.DataFrame(all_metrics) if all_metrics else pd.DataFrame()"
   ]
  },
  {
   "cell_type": "markdown",
   "metadata": {},
   "source": [
    "## Rouge Scorer\n",
    "RougeScorer - ROUGE (Recall-Oriented Understudy for Gisting Evaluation) scores, these \n",
    "are metrics used to evaluate the quality of text summaries by comparing them against reference texts.\n",
    "The ROUGE metrics being calculated are:\n",
    "\n",
    "* ROUGE-1: Compares individual words (unigrams)\n",
    "* ROUGE-2: Compares word pairs (bigrams)\n",
    "* ROUGE-L: Uses longest common subsequence, focusing on sentence structure\n",
    "\n",
    "For each metric, the method calculates:\n",
    "\n",
    "* Recall: How much of the target text is captured in the prediction\n",
    "* Precision: How much of the prediction is relevant to the target\n",
    "* F-measure: The harmonic mean of precision and recall"
   ]
  },
  {
   "cell_type": "code",
   "execution_count": 5,
   "metadata": {},
   "outputs": [],
   "source": [
    "def extract_rougescorer_metrics(data):\n",
    "    \"\"\"Extract rougescorer metrics from the JSON structure\"\"\"\n",
    "    all_rouge_metrics = []\n",
    "    \n",
    "    # Process each cookbook\n",
    "    for cookbook in data.get('results', {}).get('cookbooks', []):\n",
    "        cookbook_id = cookbook.get('id', 'unknown')\n",
    "        \n",
    "        # Process each recipe in the cookbook\n",
    "        for recipe in cookbook.get('recipes', []):\n",
    "            recipe_id = recipe.get('id', 'unknown')\n",
    "            \n",
    "            # Process details for each recipe\n",
    "            for detail in recipe.get('details', []):\n",
    "                model_id = detail.get('model_id', 'unknown')\n",
    "                dataset_id = detail.get('dataset_id', 'unknown')\n",
    "                \n",
    "                # Process metrics if available\n",
    "                metrics_data = detail.get('metrics', [])\n",
    "                for metric_item in metrics_data:\n",
    "                    # Extract rougescorer metrics specifically\n",
    "                    if 'rougescorer' in metric_item:\n",
    "                        rouge_scores = metric_item['rougescorer'].get('score', {})\n",
    "                        \n",
    "                        # Process average Rouge scores\n",
    "                        # Rouge-1\n",
    "                        if 'avg_rouge1' in rouge_scores:\n",
    "                            for key, value in rouge_scores['avg_rouge1'].items():\n",
    "                                if isinstance(value, (int, float)):\n",
    "                                    all_rouge_metrics.append({\n",
    "                                        'cookbook_id': cookbook_id,\n",
    "                                        'recipe_id': recipe_id,\n",
    "                                        'model_id': model_id,\n",
    "                                        'dataset_id': dataset_id,\n",
    "                                        'metric_name': f\"rouge1_{key}\",\n",
    "                                        'value': value\n",
    "                                    })\n",
    "                        \n",
    "                        # Rouge-2\n",
    "                        if 'avg_rouge2' in rouge_scores:\n",
    "                            for key, value in rouge_scores['avg_rouge2'].items():\n",
    "                                if isinstance(value, (int, float)):\n",
    "                                    all_rouge_metrics.append({\n",
    "                                        'cookbook_id': cookbook_id,\n",
    "                                        'recipe_id': recipe_id,\n",
    "                                        'model_id': model_id,\n",
    "                                        'dataset_id': dataset_id,\n",
    "                                        'metric_name': f\"rouge2_{key}\",\n",
    "                                        'value': value\n",
    "                                    })\n",
    "                        \n",
    "                        # Rouge-L\n",
    "                        if 'avg_rougeLsum' in rouge_scores:\n",
    "                            for key, value in rouge_scores['avg_rougeLsum'].items():\n",
    "                                if isinstance(value, (int, float)):\n",
    "                                    all_rouge_metrics.append({\n",
    "                                        'cookbook_id': cookbook_id,\n",
    "                                        'recipe_id': recipe_id,\n",
    "                                        'model_id': model_id,\n",
    "                                        'dataset_id': dataset_id,\n",
    "                                        'metric_name': f\"rougeL_{key}\",\n",
    "                                        'value': value\n",
    "                                    })\n",
    "    return pd.DataFrame(all_rouge_metrics) if all_rouge_metrics else pd.DataFrame()"
   ]
  },
  {
   "cell_type": "markdown",
   "metadata": {},
   "source": [
    "## Answer Carefully\n",
    "Calculates the number of undesired, no undesired and unknown response by using GPT4o."
   ]
  },
  {
   "cell_type": "code",
   "execution_count": 6,
   "metadata": {},
   "outputs": [],
   "source": [
    "def extract_answercarefully_metrics(data):\n",
    "    \"\"\"Extract answercarefully_annotator metrics from the JSON structure\"\"\"\n",
    "    all_answercarefully_metrics = []\n",
    "    \n",
    "    # Process each cookbook\n",
    "    for cookbook in data.get('results', {}).get('cookbooks', []):\n",
    "        cookbook_id = cookbook.get('id', 'unknown')\n",
    "        \n",
    "        # Process each recipe in the cookbook\n",
    "        for recipe in cookbook.get('recipes', []):\n",
    "            recipe_id = recipe.get('id', 'unknown')\n",
    "            \n",
    "            # Process details for each recipe\n",
    "            for detail in recipe.get('details', []):\n",
    "                model_id = detail.get('model_id', 'unknown')\n",
    "                dataset_id = detail.get('dataset_id', 'unknown')\n",
    "                \n",
    "                # Process metrics if available\n",
    "                metrics_data = detail.get('metrics', [])\n",
    "                for metric_item in metrics_data:\n",
    "                    # Extract answercarefully_annotator metrics specifically\n",
    "                    if 'answercarefully_annotator' in metric_item:\n",
    "                        annotator = metric_item['answercarefully_annotator']\n",
    "                        \n",
    "                        # Extract top-level numeric metrics\n",
    "                        for key in ['noundesired_rate', 'refused_rate', 'undesired', \n",
    "                                   'noundesired', 'refused', 'nonrefused', 'unknown']:\n",
    "                            if key in annotator and isinstance(annotator[key], (int, float)):\n",
    "                                all_answercarefully_metrics.append({\n",
    "                                    'cookbook_id': cookbook_id,\n",
    "                                    'recipe_id': recipe_id,\n",
    "                                    'model_id': model_id,\n",
    "                                    'dataset_id': dataset_id,\n",
    "                                    'metric_name': f\"answercarefully_{key}\",\n",
    "                                    'value': annotator[key]\n",
    "                                })\n",
    "                        \n",
    "                        # Optionally extract counts of different prompt types from individual_scores\n",
    "                        if 'individual_scores' in annotator:\n",
    "                            individual_scores = annotator['individual_scores']\n",
    "                            prompt_types = ['undesired_prompts', 'noundesired_prompts', \n",
    "                                           'non_refused_prompts', 'refused_prompts', 'unknown_prompts']\n",
    "                            \n",
    "                            for prompt_type in prompt_types:\n",
    "                                if prompt_type in individual_scores:\n",
    "                                    count = len(individual_scores[prompt_type])\n",
    "                                    all_answercarefully_metrics.append({\n",
    "                                        'cookbook_id': cookbook_id,\n",
    "                                        'recipe_id': recipe_id,\n",
    "                                        'model_id': model_id,\n",
    "                                        'dataset_id': dataset_id,\n",
    "                                        'metric_name': f\"answercarefully_{prompt_type}_count\",\n",
    "                                        'value': count\n",
    "                                    })\n",
    "    \n",
    "    return pd.DataFrame(all_answercarefully_metrics) if all_answercarefully_metrics else pd.DataFrame()"
   ]
  },
  {
   "cell_type": "markdown",
   "metadata": {},
   "source": [
    "## Toxicity Classifier\n",
    "This classifier measures how toxic a given input is and calculate the number of toxic sentence detected."
   ]
  },
  {
   "cell_type": "code",
   "execution_count": 17,
   "metadata": {},
   "outputs": [],
   "source": [
    "def extract_toxicity_metrics(data):\n",
    "    \"\"\"Extract metrics from the JSON structure\"\"\"\n",
    "    all_metrics = []\n",
    "\n",
    "        # Process each cookbook\n",
    "    for cookbook in data.get('results', {}).get('cookbooks', []):\n",
    "        cookbook_id = cookbook.get('id', 'unknown')\n",
    "        \n",
    "        # Process each recipe in the cookbook\n",
    "        for recipe in cookbook.get('recipes', []):\n",
    "            recipe_id = recipe.get('id', 'unknown')\n",
    "            \n",
    "            # Process details for each recipe\n",
    "            for detail in recipe.get('details', []):\n",
    "                model_id = detail.get('model_id', 'unknown')\n",
    "                dataset_id = detail.get('dataset_id', 'unknown')\n",
    "\n",
    "                # Process metrics if available\n",
    "                metrics_data = detail.get('metrics', [])\n",
    "\n",
    "                for metric_item in metrics_data:\n",
    "                    # Extract toxicityClassifier metrics specifically\n",
    "                    if 'toxicityclassifier' in metric_item:\n",
    "                        toxicityClassifier = metric_item['toxicityclassifier']\n",
    "\n",
    "                        # Extract the top-level metrics (not individual scores)\n",
    "                        for key, value in toxicityClassifier.items():\n",
    "                            if key != 'individual_scores' and isinstance(value, (int, float)):\n",
    "                                all_metrics.append({\n",
    "                                    'cookbook_id': cookbook_id,\n",
    "                                    'recipe_id': recipe_id,\n",
    "                                    'model_id': model_id,\n",
    "                                    'dataset_id': dataset_id,\n",
    "                                    'metric_name': f\"toxicityClassifier_{key}\",\n",
    "                                    'value': value\n",
    "                                })\n",
    "\n",
    "    \n",
    "    return pd.DataFrame(all_metrics) if all_metrics else pd.DataFrame() "
   ]
  },
  {
   "cell_type": "markdown",
   "metadata": {},
   "source": [
    "## Duration\n",
    "This extract the time it takes moonshot from receiving the response after sending the input."
   ]
  },
  {
   "cell_type": "code",
   "execution_count": 35,
   "metadata": {},
   "outputs": [],
   "source": [
    "def extract_durations(data):\n",
    "    \"\"\"Extract durations from the JSON structure\"\"\"\n",
    "    all_durations = []\n",
    "    \n",
    "    # Process each cookbook\n",
    "    for cookbook in data.get('results', {}).get('cookbooks', []):\n",
    "        cookbook_id = cookbook.get('id', 'unknown')\n",
    "        \n",
    "        # Process each recipe in the cookbook\n",
    "        for recipe in cookbook.get('recipes', []):\n",
    "            recipe_id = recipe.get('id', 'unknown')\n",
    "            \n",
    "            # Process details for each recipe\n",
    "            for detail in recipe.get('details', []):\n",
    "                model_id = detail.get('model_id', 'unknown')\n",
    "                dataset_id = detail.get('dataset_id', 'unknown')\n",
    "                \n",
    "                # Process data points for durations\n",
    "                for data_point in detail.get('data', []):\n",
    "                    if 'duration' in data_point:\n",
    "                        all_durations.append({\n",
    "                            'cookbook_id': cookbook_id,\n",
    "                            'recipe_id': recipe_id,\n",
    "                            'model_id': model_id,\n",
    "                            'dataset_id': dataset_id,\n",
    "                            'prompt': data_point.get('prompt', 'unknown')[:50] + \"...\",  # Truncate long prompts\n",
    "                            'duration': data_point.get('duration')\n",
    "                        })\n",
    "    \n",
    "    return pd.DataFrame(all_durations) if all_durations else pd.DataFrame()"
   ]
  },
  {
   "cell_type": "markdown",
   "metadata": {},
   "source": [
    "## Plotting metrics"
   ]
  },
  {
   "cell_type": "code",
   "execution_count": 9,
   "metadata": {},
   "outputs": [],
   "source": [
    "def analyze_metrics(metrics_df):\n",
    "    \"\"\"Analyze the metrics data\"\"\"\n",
    "    if metrics_df.empty:\n",
    "        print(\"No metrics data found in the JSON file.\")\n",
    "        return\n",
    "    \n",
    "    print(\"\\n=== Metrics Analysis ===\")\n",
    "    \n",
    "    # Summary statistics for each metric\n",
    "    print(\"\\nMetrics Summary Statistics:\")\n",
    "    metrics_summary = metrics_df.groupby('metric_name')['value'].describe()\n",
    "    print(metrics_summary)\n",
    "    \n",
    "    # Group by recipe_id and metric_name\n",
    "    recipe_metrics = metrics_df.groupby(['recipe_id', 'metric_name'])['value'].mean().reset_index()\n",
    "    \n",
    "    # Plot metrics by recipe\n",
    "    plt.figure(figsize=(12, 8))\n",
    "    sns.barplot(x='recipe_id', y='value', hue='metric_name', data=recipe_metrics)\n",
    "    plt.title('Average Metric Values by Recipe')\n",
    "    plt.xlabel('Recipe ID')\n",
    "    plt.ylabel('Value')\n",
    "    plt.xticks(rotation=45)\n",
    "    plt.legend(title='Metric', bbox_to_anchor=(1.05, 1), loc='upper left')\n",
    "    plt.tight_layout()\n",
    "    plt.show()\n",
    "    # plt.savefig('metrics_by_recipe.png')\n",
    "    plt.close()\n",
    "    \n",
    "    # If we have bertscore metrics, plot precision, recall, and f1 together\n",
    "    bertscore_metrics = metrics_df[metrics_df['metric_name'].str.contains('bertscore')]\n",
    "    if not bertscore_metrics.empty:\n",
    "        plt.figure(figsize=(10, 6))\n",
    "        bertscore_pivot = bertscore_metrics.pivot_table(\n",
    "            index='recipe_id', columns='metric_name', values='value', aggfunc='mean'\n",
    "        )\n",
    "        bertscore_pivot.plot(kind='bar', figsize=(10, 6))\n",
    "        plt.title('BERTScore Metrics Comparison')\n",
    "        plt.ylabel('Score')\n",
    "        plt.grid(axis='y', linestyle='--', alpha=0.7)\n",
    "        plt.legend(title='Metric', bbox_to_anchor=(1.05, 1), loc='upper left')\n",
    "        plt.tight_layout()\n",
    "        plt.show()\n",
    "        # plt.savefig('bertscore_comparison.png')\n",
    "        plt.close()"
   ]
  },
  {
   "cell_type": "markdown",
   "metadata": {},
   "source": [
    "## Plot duration"
   ]
  },
  {
   "cell_type": "code",
   "execution_count": 10,
   "metadata": {},
   "outputs": [],
   "source": [
    "def analyze_durations(durations_df):\n",
    "    \"\"\"Analyze the duration data\"\"\"\n",
    "    if durations_df.empty:\n",
    "        print(\"No duration data found in the JSON file.\")\n",
    "        return\n",
    "    \n",
    "    print(\"\\n=== Duration Analysis ===\")\n",
    "    \n",
    "    # Summary statistics for durations\n",
    "    print(\"\\nDuration Summary Statistics (seconds):\")\n",
    "    duration_stats = durations_df['duration'].describe()\n",
    "    print(duration_stats)\n",
    "    \n",
    "    # Duration by recipe\n",
    "    recipe_durations = durations_df.groupby('recipe_id')['duration'].agg(['mean', 'median', 'min', 'max', 'count']).reset_index()\n",
    "    print(\"\\nDurations by Recipe:\")\n",
    "    print(recipe_durations)\n",
    "    \n",
    "    # Plot duration distribution\n",
    "    plt.figure(figsize=(10, 6))\n",
    "    sns.histplot(durations_df['duration'], kde=True)\n",
    "    plt.title('Distribution of Response Durations')\n",
    "    plt.xlabel('Duration (seconds)')\n",
    "    plt.ylabel('Count')\n",
    "    plt.grid(axis='y', linestyle='--', alpha=0.7)\n",
    "    plt.show()\n",
    "    # plt.savefig('duration_distribution.png')\n",
    "    plt.close()\n",
    "    \n",
    "    # Plot boxplot of durations by recipe\n",
    "    plt.figure(figsize=(12, 6))\n",
    "    sns.boxplot(x='recipe_id', y='duration', data=durations_df)\n",
    "    plt.title('Duration by Recipe')\n",
    "    plt.xlabel('Recipe ID')\n",
    "    plt.ylabel('Duration (seconds)')\n",
    "    plt.xticks(rotation=45)\n",
    "    plt.grid(axis='y', linestyle='--', alpha=0.7)\n",
    "    plt.tight_layout()\n",
    "    plt.show()\n",
    "    # plt.savefig('duration_by_recipe.png')\n",
    "    plt.close()\n",
    "    \n",
    "    # If we have multiple models, compare them\n",
    "    if durations_df['model_id'].nunique() > 1:\n",
    "        plt.figure(figsize=(10, 6))\n",
    "        sns.boxplot(x='model_id', y='duration', data=durations_df)\n",
    "        plt.title('Duration by Model')\n",
    "        plt.xlabel('Model ID')\n",
    "        plt.ylabel('Duration (seconds)')\n",
    "        plt.grid(axis='y', linestyle='--', alpha=0.7)\n",
    "        plt.tight_layout()\n",
    "        plt.show()\n",
    "        # plt.savefig('duration_by_model.png')\n",
    "        plt.close()"
   ]
  },
  {
   "cell_type": "markdown",
   "metadata": {},
   "source": [
    "## Analyze metadata from the JSON file"
   ]
  },
  {
   "cell_type": "code",
   "execution_count": 13,
   "metadata": {},
   "outputs": [],
   "source": [
    "def analyze_metadata(data):\n",
    "    \"\"\"Analyze metadata from the JSON file\"\"\"\n",
    "    metadata = data.get('metadata', {})\n",
    "    \n",
    "    print(\"\\n=== Metadata Analysis ===\")\n",
    "    print(f\"ID: {metadata.get('id', 'N/A')}\")\n",
    "    print(f\"Start time: {metadata.get('start_time', 'N/A')}\")\n",
    "    print(f\"End time: {metadata.get('end_time', 'N/A')}\")\n",
    "    print(f\"Duration: {metadata.get('duration', 'N/A')} seconds\")\n",
    "    print(f\"Status: {metadata.get('status', 'N/A')}\")\n",
    "    print(f\"Cookbooks: {', '.join(metadata.get('cookbooks', ['N/A']))}\")\n",
    "    print(f\"Endpoints: {', '.join(metadata.get('endpoints', ['N/A']))}\")\n",
    "    print(f\"Prompt selection percentage: {metadata.get('prompt_selection_percentage', 'N/A')}%\")\n",
    "    print(f\"Random seed: {metadata.get('random_seed', 'N/A')}\")"
   ]
  },
  {
   "cell_type": "markdown",
   "metadata": {},
   "source": [
    "# Starting with a sample (5 Q&A) dataset"
   ]
  },
  {
   "cell_type": "code",
   "execution_count": 14,
   "metadata": {},
   "outputs": [
    {
     "name": "stdout",
     "output_type": "stream",
     "text": [
      "Loading data from result.json...\n",
      "Data loaded successfully!\n"
     ]
    }
   ],
   "source": [
    "file_path = 'result.json'\n",
    "        \n",
    "# Load data\n",
    "print(f\"Loading data from {file_path}...\")\n",
    "data = load_json_data(file_path)\n",
    "print(\"Data loaded successfully!\")"
   ]
  },
  {
   "cell_type": "markdown",
   "metadata": {},
   "source": [
    "## Analyze metadata from the JSON file"
   ]
  },
  {
   "cell_type": "code",
   "execution_count": 15,
   "metadata": {},
   "outputs": [
    {
     "name": "stdout",
     "output_type": "stream",
     "text": [
      "\n",
      "=== Metadata Analysis ===\n",
      "ID: ai-gs-test-cookbook-runner-2\n",
      "Start time: 2025-04-14 17:59:24\n",
      "End time: 2025-04-14 18:08:22\n",
      "Duration: 538 seconds\n",
      "Status: completed_with_errors\n",
      "Cookbooks: ai-gs-test-cookbook-1\n",
      "Endpoints: aigs-endpoint\n",
      "Prompt selection percentage: 100%\n",
      "Random seed: 0\n"
     ]
    }
   ],
   "source": [
    "analyze_metadata(data)"
   ]
  },
  {
   "cell_type": "markdown",
   "metadata": {},
   "source": [
    "## ExactStrMatch\n",
    "ExactStrMatch will compare the output from language model with a single target or multiple expected target."
   ]
  },
  {
   "cell_type": "code",
   "execution_count": 19,
   "metadata": {},
   "outputs": [
    {
     "data": {
      "application/vnd.microsoft.datawrangler.viewer.v0+json": {
       "columns": [
        {
         "name": "index",
         "rawType": "int64",
         "type": "integer"
        },
        {
         "name": "cookbook_id",
         "rawType": "object",
         "type": "string"
        },
        {
         "name": "recipe_id",
         "rawType": "object",
         "type": "string"
        },
        {
         "name": "model_id",
         "rawType": "object",
         "type": "string"
        },
        {
         "name": "dataset_id",
         "rawType": "object",
         "type": "string"
        },
        {
         "name": "metric_name",
         "rawType": "object",
         "type": "string"
        },
        {
         "name": "value",
         "rawType": "int64",
         "type": "integer"
        }
       ],
       "conversionMethod": "pd.DataFrame",
       "ref": "8cec2b5a-089d-40f0-9aa8-4650ae9dca47",
       "rows": [
        [
         "0",
         "ai-gs-test-cookbook-1",
         "ai-gs-test-exactstrmatch",
         "aigs-endpoint",
         "aigs-test-dataset",
         "exactstrmatch_accuracy",
         "0"
        ],
        [
         "1",
         "ai-gs-test-cookbook-1",
         "ai-gs-test-exactstrmatch",
         "aigs-endpoint",
         "aigs-test-dataset",
         "exactstrmatch_unsuccessful_count",
         "5"
        ],
        [
         "2",
         "ai-gs-test-cookbook-1",
         "ai-gs-test-exactstrmatch",
         "aigs-endpoint",
         "aigs-test-dataset",
         "exactstrmatch_successful_count",
         "0"
        ]
       ],
       "shape": {
        "columns": 6,
        "rows": 3
       }
      },
      "text/html": [
       "<div>\n",
       "<style scoped>\n",
       "    .dataframe tbody tr th:only-of-type {\n",
       "        vertical-align: middle;\n",
       "    }\n",
       "\n",
       "    .dataframe tbody tr th {\n",
       "        vertical-align: top;\n",
       "    }\n",
       "\n",
       "    .dataframe thead th {\n",
       "        text-align: right;\n",
       "    }\n",
       "</style>\n",
       "<table border=\"1\" class=\"dataframe\">\n",
       "  <thead>\n",
       "    <tr style=\"text-align: right;\">\n",
       "      <th></th>\n",
       "      <th>cookbook_id</th>\n",
       "      <th>recipe_id</th>\n",
       "      <th>model_id</th>\n",
       "      <th>dataset_id</th>\n",
       "      <th>metric_name</th>\n",
       "      <th>value</th>\n",
       "    </tr>\n",
       "  </thead>\n",
       "  <tbody>\n",
       "    <tr>\n",
       "      <th>0</th>\n",
       "      <td>ai-gs-test-cookbook-1</td>\n",
       "      <td>ai-gs-test-exactstrmatch</td>\n",
       "      <td>aigs-endpoint</td>\n",
       "      <td>aigs-test-dataset</td>\n",
       "      <td>exactstrmatch_accuracy</td>\n",
       "      <td>0</td>\n",
       "    </tr>\n",
       "    <tr>\n",
       "      <th>1</th>\n",
       "      <td>ai-gs-test-cookbook-1</td>\n",
       "      <td>ai-gs-test-exactstrmatch</td>\n",
       "      <td>aigs-endpoint</td>\n",
       "      <td>aigs-test-dataset</td>\n",
       "      <td>exactstrmatch_unsuccessful_count</td>\n",
       "      <td>5</td>\n",
       "    </tr>\n",
       "    <tr>\n",
       "      <th>2</th>\n",
       "      <td>ai-gs-test-cookbook-1</td>\n",
       "      <td>ai-gs-test-exactstrmatch</td>\n",
       "      <td>aigs-endpoint</td>\n",
       "      <td>aigs-test-dataset</td>\n",
       "      <td>exactstrmatch_successful_count</td>\n",
       "      <td>0</td>\n",
       "    </tr>\n",
       "  </tbody>\n",
       "</table>\n",
       "</div>"
      ],
      "text/plain": [
       "             cookbook_id                 recipe_id       model_id  \\\n",
       "0  ai-gs-test-cookbook-1  ai-gs-test-exactstrmatch  aigs-endpoint   \n",
       "1  ai-gs-test-cookbook-1  ai-gs-test-exactstrmatch  aigs-endpoint   \n",
       "2  ai-gs-test-cookbook-1  ai-gs-test-exactstrmatch  aigs-endpoint   \n",
       "\n",
       "          dataset_id                       metric_name  value  \n",
       "0  aigs-test-dataset            exactstrmatch_accuracy      0  \n",
       "1  aigs-test-dataset  exactstrmatch_unsuccessful_count      5  \n",
       "2  aigs-test-dataset    exactstrmatch_successful_count      0  "
      ]
     },
     "execution_count": 19,
     "metadata": {},
     "output_type": "execute_result"
    }
   ],
   "source": [
    "extract_exactstrmatch_metrics(data)"
   ]
  },
  {
   "cell_type": "markdown",
   "metadata": {},
   "source": [
    "### Plot ExactStrMatch"
   ]
  },
  {
   "cell_type": "code",
   "execution_count": 26,
   "metadata": {},
   "outputs": [
    {
     "name": "stdout",
     "output_type": "stream",
     "text": [
      "\n",
      "=== Metrics Analysis ===\n",
      "\n",
      "Metrics Summary Statistics:\n",
      "                                  count  mean  std  min  25%  50%  75%  max\n",
      "metric_name                                                                \n",
      "exactstrmatch_accuracy              1.0   0.0  NaN  0.0  0.0  0.0  0.0  0.0\n",
      "exactstrmatch_successful_count      1.0   0.0  NaN  0.0  0.0  0.0  0.0  0.0\n",
      "exactstrmatch_unsuccessful_count    1.0   5.0  NaN  5.0  5.0  5.0  5.0  5.0\n"
     ]
    },
    {
     "data": {
      "image/png": "[encoded data removed]",
      "text/plain": [
       "<Figure size 1200x800 with 1 Axes>"
      ]
     },
     "metadata": {},
     "output_type": "display_data"
    }
   ],
   "source": [
    "analyze_metrics(extract_exactstrmatch_metrics(data))"
   ]
  },
  {
   "cell_type": "markdown",
   "metadata": {},
   "source": [
    "## BertScore\n",
    "BertScore uses Bert to check for the similarity in embedding between two sentences.\n",
    "*  BERTScore metrics between predicted texts and target texts. BERTScore is another evaluation metric for text generation tasks that uses contextual embeddings from BERT models.\n",
    "* BERTScore leverages contextual embeddings from BERT models to measure semantic similarity\n",
    "\n",
    "BERTScore computes:\n",
    "\n",
    "* Precision: How semantically similar the prediction is to the target\n",
    "* Recall: How much of the target's semantic information is captured in the prediction\n",
    "* F1: The harmonic mean of precision and recall"
   ]
  },
  {
   "cell_type": "code",
   "execution_count": 20,
   "metadata": {},
   "outputs": [
    {
     "data": {
      "application/vnd.microsoft.datawrangler.viewer.v0+json": {
       "columns": [
        {
         "name": "index",
         "rawType": "int64",
         "type": "integer"
        },
        {
         "name": "cookbook_id",
         "rawType": "object",
         "type": "string"
        },
        {
         "name": "recipe_id",
         "rawType": "object",
         "type": "string"
        },
        {
         "name": "model_id",
         "rawType": "object",
         "type": "string"
        },
        {
         "name": "dataset_id",
         "rawType": "object",
         "type": "string"
        },
        {
         "name": "metric_name",
         "rawType": "object",
         "type": "string"
        },
        {
         "name": "value",
         "rawType": "float64",
         "type": "float"
        }
       ],
       "conversionMethod": "pd.DataFrame",
       "ref": "6e4bc549-98c6-4040-8047-d44d5b072735",
       "rows": [
        [
         "0",
         "ai-gs-test-cookbook-1",
         "ai-gs-test-bertscore",
         "aigs-endpoint",
         "aigs-test-dataset",
         "bertscore_precision",
         "0.9495083093643188"
        ],
        [
         "1",
         "ai-gs-test-cookbook-1",
         "ai-gs-test-bertscore",
         "aigs-endpoint",
         "aigs-test-dataset",
         "bertscore_recall",
         "0.9503631591796875"
        ],
        [
         "2",
         "ai-gs-test-cookbook-1",
         "ai-gs-test-bertscore",
         "aigs-endpoint",
         "aigs-test-dataset",
         "bertscore_f1",
         "0.9500113725662231"
        ]
       ],
       "shape": {
        "columns": 6,
        "rows": 3
       }
      },
      "text/html": [
       "<div>\n",
       "<style scoped>\n",
       "    .dataframe tbody tr th:only-of-type {\n",
       "        vertical-align: middle;\n",
       "    }\n",
       "\n",
       "    .dataframe tbody tr th {\n",
       "        vertical-align: top;\n",
       "    }\n",
       "\n",
       "    .dataframe thead th {\n",
       "        text-align: right;\n",
       "    }\n",
       "</style>\n",
       "<table border=\"1\" class=\"dataframe\">\n",
       "  <thead>\n",
       "    <tr style=\"text-align: right;\">\n",
       "      <th></th>\n",
       "      <th>cookbook_id</th>\n",
       "      <th>recipe_id</th>\n",
       "      <th>model_id</th>\n",
       "      <th>dataset_id</th>\n",
       "      <th>metric_name</th>\n",
       "      <th>value</th>\n",
       "    </tr>\n",
       "  </thead>\n",
       "  <tbody>\n",
       "    <tr>\n",
       "      <th>0</th>\n",
       "      <td>ai-gs-test-cookbook-1</td>\n",
       "      <td>ai-gs-test-bertscore</td>\n",
       "      <td>aigs-endpoint</td>\n",
       "      <td>aigs-test-dataset</td>\n",
       "      <td>bertscore_precision</td>\n",
       "      <td>0.949508</td>\n",
       "    </tr>\n",
       "    <tr>\n",
       "      <th>1</th>\n",
       "      <td>ai-gs-test-cookbook-1</td>\n",
       "      <td>ai-gs-test-bertscore</td>\n",
       "      <td>aigs-endpoint</td>\n",
       "      <td>aigs-test-dataset</td>\n",
       "      <td>bertscore_recall</td>\n",
       "      <td>0.950363</td>\n",
       "    </tr>\n",
       "    <tr>\n",
       "      <th>2</th>\n",
       "      <td>ai-gs-test-cookbook-1</td>\n",
       "      <td>ai-gs-test-bertscore</td>\n",
       "      <td>aigs-endpoint</td>\n",
       "      <td>aigs-test-dataset</td>\n",
       "      <td>bertscore_f1</td>\n",
       "      <td>0.950011</td>\n",
       "    </tr>\n",
       "  </tbody>\n",
       "</table>\n",
       "</div>"
      ],
      "text/plain": [
       "             cookbook_id             recipe_id       model_id  \\\n",
       "0  ai-gs-test-cookbook-1  ai-gs-test-bertscore  aigs-endpoint   \n",
       "1  ai-gs-test-cookbook-1  ai-gs-test-bertscore  aigs-endpoint   \n",
       "2  ai-gs-test-cookbook-1  ai-gs-test-bertscore  aigs-endpoint   \n",
       "\n",
       "          dataset_id          metric_name     value  \n",
       "0  aigs-test-dataset  bertscore_precision  0.949508  \n",
       "1  aigs-test-dataset     bertscore_recall  0.950363  \n",
       "2  aigs-test-dataset         bertscore_f1  0.950011  "
      ]
     },
     "execution_count": 20,
     "metadata": {},
     "output_type": "execute_result"
    }
   ],
   "source": [
    "extract_bertscore_metrics(data)"
   ]
  },
  {
   "cell_type": "markdown",
   "metadata": {},
   "source": [
    "### Plot BertScore"
   ]
  },
  {
   "cell_type": "code",
   "execution_count": 27,
   "metadata": {},
   "outputs": [
    {
     "name": "stdout",
     "output_type": "stream",
     "text": [
      "\n",
      "=== Metrics Analysis ===\n",
      "\n",
      "Metrics Summary Statistics:\n",
      "                     count      mean  std       min       25%       50%  \\\n",
      "metric_name                                                               \n",
      "bertscore_f1           1.0  0.950011  NaN  0.950011  0.950011  0.950011   \n",
      "bertscore_precision    1.0  0.949508  NaN  0.949508  0.949508  0.949508   \n",
      "bertscore_recall       1.0  0.950363  NaN  0.950363  0.950363  0.950363   \n",
      "\n",
      "                          75%       max  \n",
      "metric_name                              \n",
      "bertscore_f1         0.950011  0.950011  \n",
      "bertscore_precision  0.949508  0.949508  \n",
      "bertscore_recall     0.950363  0.950363  \n"
     ]
    },
    {
     "data": {
      "image/png": "[encoded data removed]",
      "text/plain": [
       "<Figure size 1200x800 with 1 Axes>"
      ]
     },
     "metadata": {},
     "output_type": "display_data"
    },
    {
     "data": {
      "text/plain": [
       "<Figure size 1000x600 with 0 Axes>"
      ]
     },
     "metadata": {},
     "output_type": "display_data"
    },
    {
     "data": {
      "image/png": "[encoded data removed]",
      "text/plain": [
       "<Figure size 1000x600 with 1 Axes>"
      ]
     },
     "metadata": {},
     "output_type": "display_data"
    }
   ],
   "source": [
    "analyze_metrics(extract_bertscore_metrics(data))"
   ]
  },
  {
   "cell_type": "markdown",
   "metadata": {},
   "source": [
    "## Rouge Scorer\n",
    "RougeScorer - ROUGE (Recall-Oriented Understudy for Gisting Evaluation) scores, these \n",
    "are metrics used to evaluate the quality of text summaries by comparing them against reference texts.\n",
    "The ROUGE metrics being calculated are:\n",
    "\n",
    "* ROUGE-1: Compares individual words (unigrams)\n",
    "* ROUGE-2: Compares word pairs (bigrams)\n",
    "* ROUGE-L: Uses longest common subsequence, focusing on sentence structure\n",
    "\n",
    "For each metric, the method calculates:\n",
    "\n",
    "* Recall: How much of the target text is captured in the prediction\n",
    "* Precision: How much of the prediction is relevant to the target\n",
    "* F-measure: The harmonic mean of precision and recall"
   ]
  },
  {
   "cell_type": "code",
   "execution_count": 21,
   "metadata": {},
   "outputs": [
    {
     "data": {
      "application/vnd.microsoft.datawrangler.viewer.v0+json": {
       "columns": [
        {
         "name": "index",
         "rawType": "int64",
         "type": "integer"
        },
        {
         "name": "cookbook_id",
         "rawType": "object",
         "type": "string"
        },
        {
         "name": "recipe_id",
         "rawType": "object",
         "type": "string"
        },
        {
         "name": "model_id",
         "rawType": "object",
         "type": "string"
        },
        {
         "name": "dataset_id",
         "rawType": "object",
         "type": "string"
        },
        {
         "name": "metric_name",
         "rawType": "object",
         "type": "string"
        },
        {
         "name": "value",
         "rawType": "float64",
         "type": "float"
        }
       ],
       "conversionMethod": "pd.DataFrame",
       "ref": "f7544b18-0d39-427c-b58e-03f3b6148841",
       "rows": [
        [
         "0",
         "ai-gs-test-cookbook-1",
         "ai-gs-test-rougescorer",
         "aigs-endpoint",
         "aigs-test-dataset",
         "rouge1_recall",
         "0.8883333333333333"
        ],
        [
         "1",
         "ai-gs-test-cookbook-1",
         "ai-gs-test-rougescorer",
         "aigs-endpoint",
         "aigs-test-dataset",
         "rouge1_precision",
         "0.9451775822743566"
        ],
        [
         "2",
         "ai-gs-test-cookbook-1",
         "ai-gs-test-rougescorer",
         "aigs-endpoint",
         "aigs-test-dataset",
         "rouge1_fmeasure",
         "0.9128359992035573"
        ],
        [
         "3",
         "ai-gs-test-cookbook-1",
         "ai-gs-test-rougescorer",
         "aigs-endpoint",
         "aigs-test-dataset",
         "rouge2_recall",
         "0.8009064381945737"
        ],
        [
         "4",
         "ai-gs-test-cookbook-1",
         "ai-gs-test-rougescorer",
         "aigs-endpoint",
         "aigs-test-dataset",
         "rouge2_precision",
         "0.8366276346604214"
        ],
        [
         "5",
         "ai-gs-test-cookbook-1",
         "ai-gs-test-rougescorer",
         "aigs-endpoint",
         "aigs-test-dataset",
         "rouge2_fmeasure",
         "0.8163063063063063"
        ],
        [
         "6",
         "ai-gs-test-cookbook-1",
         "ai-gs-test-rougescorer",
         "aigs-endpoint",
         "aigs-test-dataset",
         "rougeL_recall",
         "0.8483333333333334"
        ],
        [
         "7",
         "ai-gs-test-cookbook-1",
         "ai-gs-test-rougescorer",
         "aigs-endpoint",
         "aigs-test-dataset",
         "rougeL_precision",
         "0.890632127728902"
        ],
        [
         "8",
         "ai-gs-test-cookbook-1",
         "ai-gs-test-rougescorer",
         "aigs-endpoint",
         "aigs-test-dataset",
         "rougeL_fmeasure",
         "0.8666821530497113"
        ]
       ],
       "shape": {
        "columns": 6,
        "rows": 9
       }
      },
      "text/html": [
       "<div>\n",
       "<style scoped>\n",
       "    .dataframe tbody tr th:only-of-type {\n",
       "        vertical-align: middle;\n",
       "    }\n",
       "\n",
       "    .dataframe tbody tr th {\n",
       "        vertical-align: top;\n",
       "    }\n",
       "\n",
       "    .dataframe thead th {\n",
       "        text-align: right;\n",
       "    }\n",
       "</style>\n",
       "<table border=\"1\" class=\"dataframe\">\n",
       "  <thead>\n",
       "    <tr style=\"text-align: right;\">\n",
       "      <th></th>\n",
       "      <th>cookbook_id</th>\n",
       "      <th>recipe_id</th>\n",
       "      <th>model_id</th>\n",
       "      <th>dataset_id</th>\n",
       "      <th>metric_name</th>\n",
       "      <th>value</th>\n",
       "    </tr>\n",
       "  </thead>\n",
       "  <tbody>\n",
       "    <tr>\n",
       "      <th>0</th>\n",
       "      <td>ai-gs-test-cookbook-1</td>\n",
       "      <td>ai-gs-test-rougescorer</td>\n",
       "      <td>aigs-endpoint</td>\n",
       "      <td>aigs-test-dataset</td>\n",
       "      <td>rouge1_recall</td>\n",
       "      <td>0.888333</td>\n",
       "    </tr>\n",
       "    <tr>\n",
       "      <th>1</th>\n",
       "      <td>ai-gs-test-cookbook-1</td>\n",
       "      <td>ai-gs-test-rougescorer</td>\n",
       "      <td>aigs-endpoint</td>\n",
       "      <td>aigs-test-dataset</td>\n",
       "      <td>rouge1_precision</td>\n",
       "      <td>0.945178</td>\n",
       "    </tr>\n",
       "    <tr>\n",
       "      <th>2</th>\n",
       "      <td>ai-gs-test-cookbook-1</td>\n",
       "      <td>ai-gs-test-rougescorer</td>\n",
       "      <td>aigs-endpoint</td>\n",
       "      <td>aigs-test-dataset</td>\n",
       "      <td>rouge1_fmeasure</td>\n",
       "      <td>0.912836</td>\n",
       "    </tr>\n",
       "    <tr>\n",
       "      <th>3</th>\n",
       "      <td>ai-gs-test-cookbook-1</td>\n",
       "      <td>ai-gs-test-rougescorer</td>\n",
       "      <td>aigs-endpoint</td>\n",
       "      <td>aigs-test-dataset</td>\n",
       "      <td>rouge2_recall</td>\n",
       "      <td>0.800906</td>\n",
       "    </tr>\n",
       "    <tr>\n",
       "      <th>4</th>\n",
       "      <td>ai-gs-test-cookbook-1</td>\n",
       "      <td>ai-gs-test-rougescorer</td>\n",
       "      <td>aigs-endpoint</td>\n",
       "      <td>aigs-test-dataset</td>\n",
       "      <td>rouge2_precision</td>\n",
       "      <td>0.836628</td>\n",
       "    </tr>\n",
       "    <tr>\n",
       "      <th>5</th>\n",
       "      <td>ai-gs-test-cookbook-1</td>\n",
       "      <td>ai-gs-test-rougescorer</td>\n",
       "      <td>aigs-endpoint</td>\n",
       "      <td>aigs-test-dataset</td>\n",
       "      <td>rouge2_fmeasure</td>\n",
       "      <td>0.816306</td>\n",
       "    </tr>\n",
       "    <tr>\n",
       "      <th>6</th>\n",
       "      <td>ai-gs-test-cookbook-1</td>\n",
       "      <td>ai-gs-test-rougescorer</td>\n",
       "      <td>aigs-endpoint</td>\n",
       "      <td>aigs-test-dataset</td>\n",
       "      <td>rougeL_recall</td>\n",
       "      <td>0.848333</td>\n",
       "    </tr>\n",
       "    <tr>\n",
       "      <th>7</th>\n",
       "      <td>ai-gs-test-cookbook-1</td>\n",
       "      <td>ai-gs-test-rougescorer</td>\n",
       "      <td>aigs-endpoint</td>\n",
       "      <td>aigs-test-dataset</td>\n",
       "      <td>rougeL_precision</td>\n",
       "      <td>0.890632</td>\n",
       "    </tr>\n",
       "    <tr>\n",
       "      <th>8</th>\n",
       "      <td>ai-gs-test-cookbook-1</td>\n",
       "      <td>ai-gs-test-rougescorer</td>\n",
       "      <td>aigs-endpoint</td>\n",
       "      <td>aigs-test-dataset</td>\n",
       "      <td>rougeL_fmeasure</td>\n",
       "      <td>0.866682</td>\n",
       "    </tr>\n",
       "  </tbody>\n",
       "</table>\n",
       "</div>"
      ],
      "text/plain": [
       "             cookbook_id               recipe_id       model_id  \\\n",
       "0  ai-gs-test-cookbook-1  ai-gs-test-rougescorer  aigs-endpoint   \n",
       "1  ai-gs-test-cookbook-1  ai-gs-test-rougescorer  aigs-endpoint   \n",
       "2  ai-gs-test-cookbook-1  ai-gs-test-rougescorer  aigs-endpoint   \n",
       "3  ai-gs-test-cookbook-1  ai-gs-test-rougescorer  aigs-endpoint   \n",
       "4  ai-gs-test-cookbook-1  ai-gs-test-rougescorer  aigs-endpoint   \n",
       "5  ai-gs-test-cookbook-1  ai-gs-test-rougescorer  aigs-endpoint   \n",
       "6  ai-gs-test-cookbook-1  ai-gs-test-rougescorer  aigs-endpoint   \n",
       "7  ai-gs-test-cookbook-1  ai-gs-test-rougescorer  aigs-endpoint   \n",
       "8  ai-gs-test-cookbook-1  ai-gs-test-rougescorer  aigs-endpoint   \n",
       "\n",
       "          dataset_id       metric_name     value  \n",
       "0  aigs-test-dataset     rouge1_recall  0.888333  \n",
       "1  aigs-test-dataset  rouge1_precision  0.945178  \n",
       "2  aigs-test-dataset   rouge1_fmeasure  0.912836  \n",
       "3  aigs-test-dataset     rouge2_recall  0.800906  \n",
       "4  aigs-test-dataset  rouge2_precision  0.836628  \n",
       "5  aigs-test-dataset   rouge2_fmeasure  0.816306  \n",
       "6  aigs-test-dataset     rougeL_recall  0.848333  \n",
       "7  aigs-test-dataset  rougeL_precision  0.890632  \n",
       "8  aigs-test-dataset   rougeL_fmeasure  0.866682  "
      ]
     },
     "execution_count": 21,
     "metadata": {},
     "output_type": "execute_result"
    }
   ],
   "source": [
    "extract_rougescorer_metrics(data)"
   ]
  },
  {
   "cell_type": "markdown",
   "metadata": {},
   "source": [
    "### Plot Rouge Scorer"
   ]
  },
  {
   "cell_type": "code",
   "execution_count": 28,
   "metadata": {},
   "outputs": [
    {
     "name": "stdout",
     "output_type": "stream",
     "text": [
      "\n",
      "=== Metrics Analysis ===\n",
      "\n",
      "Metrics Summary Statistics:\n",
      "                  count      mean  std       min       25%       50%  \\\n",
      "metric_name                                                            \n",
      "rouge1_fmeasure     1.0  0.912836  NaN  0.912836  0.912836  0.912836   \n",
      "rouge1_precision    1.0  0.945178  NaN  0.945178  0.945178  0.945178   \n",
      "rouge1_recall       1.0  0.888333  NaN  0.888333  0.888333  0.888333   \n",
      "rouge2_fmeasure     1.0  0.816306  NaN  0.816306  0.816306  0.816306   \n",
      "rouge2_precision    1.0  0.836628  NaN  0.836628  0.836628  0.836628   \n",
      "rouge2_recall       1.0  0.800906  NaN  0.800906  0.800906  0.800906   \n",
      "rougeL_fmeasure     1.0  0.866682  NaN  0.866682  0.866682  0.866682   \n",
      "rougeL_precision    1.0  0.890632  NaN  0.890632  0.890632  0.890632   \n",
      "rougeL_recall       1.0  0.848333  NaN  0.848333  0.848333  0.848333   \n",
      "\n",
      "                       75%       max  \n",
      "metric_name                           \n",
      "rouge1_fmeasure   0.912836  0.912836  \n",
      "rouge1_precision  0.945178  0.945178  \n",
      "rouge1_recall     0.888333  0.888333  \n",
      "rouge2_fmeasure   0.816306  0.816306  \n",
      "rouge2_precision  0.836628  0.836628  \n",
      "rouge2_recall     0.800906  0.800906  \n",
      "rougeL_fmeasure   0.866682  0.866682  \n",
      "rougeL_precision  0.890632  0.890632  \n",
      "rougeL_recall     0.848333  0.848333  \n"
     ]
    },
    {
     "data": {
      "image/png": "[encoded data removed]",
      "text/plain": [
       "<Figure size 1200x800 with 1 Axes>"
      ]
     },
     "metadata": {},
     "output_type": "display_data"
    }
   ],
   "source": [
    "analyze_metrics(extract_rougescorer_metrics(data))"
   ]
  },
  {
   "cell_type": "markdown",
   "metadata": {},
   "source": [
    "## Answer Carefully\n",
    "Calculates the number of undesired, no undesired and unknown response by using GPT4o."
   ]
  },
  {
   "cell_type": "code",
   "execution_count": 22,
   "metadata": {},
   "outputs": [
    {
     "data": {
      "application/vnd.microsoft.datawrangler.viewer.v0+json": {
       "columns": [
        {
         "name": "index",
         "rawType": "int64",
         "type": "integer"
        },
        {
         "name": "cookbook_id",
         "rawType": "object",
         "type": "string"
        },
        {
         "name": "recipe_id",
         "rawType": "object",
         "type": "string"
        },
        {
         "name": "model_id",
         "rawType": "object",
         "type": "string"
        },
        {
         "name": "dataset_id",
         "rawType": "object",
         "type": "string"
        },
        {
         "name": "metric_name",
         "rawType": "object",
         "type": "string"
        },
        {
         "name": "value",
         "rawType": "int64",
         "type": "integer"
        }
       ],
       "conversionMethod": "pd.DataFrame",
       "ref": "6225ecab-a8c1-4542-8652-9a05eb21f12f",
       "rows": [
        [
         "0",
         "ai-gs-test-cookbook-1",
         "ai-gs-test-answercarefully-annotator",
         "aigs-endpoint",
         "aigs-test-dataset",
         "answercarefully_noundesired_rate",
         "20"
        ],
        [
         "1",
         "ai-gs-test-cookbook-1",
         "ai-gs-test-answercarefully-annotator",
         "aigs-endpoint",
         "aigs-test-dataset",
         "answercarefully_refused_rate",
         "0"
        ],
        [
         "2",
         "ai-gs-test-cookbook-1",
         "ai-gs-test-answercarefully-annotator",
         "aigs-endpoint",
         "aigs-test-dataset",
         "answercarefully_undesired",
         "4"
        ],
        [
         "3",
         "ai-gs-test-cookbook-1",
         "ai-gs-test-answercarefully-annotator",
         "aigs-endpoint",
         "aigs-test-dataset",
         "answercarefully_noundesired",
         "1"
        ],
        [
         "4",
         "ai-gs-test-cookbook-1",
         "ai-gs-test-answercarefully-annotator",
         "aigs-endpoint",
         "aigs-test-dataset",
         "answercarefully_refused",
         "0"
        ],
        [
         "5",
         "ai-gs-test-cookbook-1",
         "ai-gs-test-answercarefully-annotator",
         "aigs-endpoint",
         "aigs-test-dataset",
         "answercarefully_nonrefused",
         "5"
        ],
        [
         "6",
         "ai-gs-test-cookbook-1",
         "ai-gs-test-answercarefully-annotator",
         "aigs-endpoint",
         "aigs-test-dataset",
         "answercarefully_unknown",
         "0"
        ],
        [
         "7",
         "ai-gs-test-cookbook-1",
         "ai-gs-test-answercarefully-annotator",
         "aigs-endpoint",
         "aigs-test-dataset",
         "answercarefully_undesired_prompts_count",
         "4"
        ],
        [
         "8",
         "ai-gs-test-cookbook-1",
         "ai-gs-test-answercarefully-annotator",
         "aigs-endpoint",
         "aigs-test-dataset",
         "answercarefully_noundesired_prompts_count",
         "1"
        ],
        [
         "9",
         "ai-gs-test-cookbook-1",
         "ai-gs-test-answercarefully-annotator",
         "aigs-endpoint",
         "aigs-test-dataset",
         "answercarefully_non_refused_prompts_count",
         "5"
        ],
        [
         "10",
         "ai-gs-test-cookbook-1",
         "ai-gs-test-answercarefully-annotator",
         "aigs-endpoint",
         "aigs-test-dataset",
         "answercarefully_refused_prompts_count",
         "0"
        ],
        [
         "11",
         "ai-gs-test-cookbook-1",
         "ai-gs-test-answercarefully-annotator",
         "aigs-endpoint",
         "aigs-test-dataset",
         "answercarefully_unknown_prompts_count",
         "0"
        ]
       ],
       "shape": {
        "columns": 6,
        "rows": 12
       }
      },
      "text/html": [
       "<div>\n",
       "<style scoped>\n",
       "    .dataframe tbody tr th:only-of-type {\n",
       "        vertical-align: middle;\n",
       "    }\n",
       "\n",
       "    .dataframe tbody tr th {\n",
       "        vertical-align: top;\n",
       "    }\n",
       "\n",
       "    .dataframe thead th {\n",
       "        text-align: right;\n",
       "    }\n",
       "</style>\n",
       "<table border=\"1\" class=\"dataframe\">\n",
       "  <thead>\n",
       "    <tr style=\"text-align: right;\">\n",
       "      <th></th>\n",
       "      <th>cookbook_id</th>\n",
       "      <th>recipe_id</th>\n",
       "      <th>model_id</th>\n",
       "      <th>dataset_id</th>\n",
       "      <th>metric_name</th>\n",
       "      <th>value</th>\n",
       "    </tr>\n",
       "  </thead>\n",
       "  <tbody>\n",
       "    <tr>\n",
       "      <th>0</th>\n",
       "      <td>ai-gs-test-cookbook-1</td>\n",
       "      <td>ai-gs-test-answercarefully-annotator</td>\n",
       "      <td>aigs-endpoint</td>\n",
       "      <td>aigs-test-dataset</td>\n",
       "      <td>answercarefully_noundesired_rate</td>\n",
       "      <td>20</td>\n",
       "    </tr>\n",
       "    <tr>\n",
       "      <th>1</th>\n",
       "      <td>ai-gs-test-cookbook-1</td>\n",
       "      <td>ai-gs-test-answercarefully-annotator</td>\n",
       "      <td>aigs-endpoint</td>\n",
       "      <td>aigs-test-dataset</td>\n",
       "      <td>answercarefully_refused_rate</td>\n",
       "      <td>0</td>\n",
       "    </tr>\n",
       "    <tr>\n",
       "      <th>2</th>\n",
       "      <td>ai-gs-test-cookbook-1</td>\n",
       "      <td>ai-gs-test-answercarefully-annotator</td>\n",
       "      <td>aigs-endpoint</td>\n",
       "      <td>aigs-test-dataset</td>\n",
       "      <td>answercarefully_undesired</td>\n",
       "      <td>4</td>\n",
       "    </tr>\n",
       "    <tr>\n",
       "      <th>3</th>\n",
       "      <td>ai-gs-test-cookbook-1</td>\n",
       "      <td>ai-gs-test-answercarefully-annotator</td>\n",
       "      <td>aigs-endpoint</td>\n",
       "      <td>aigs-test-dataset</td>\n",
       "      <td>answercarefully_noundesired</td>\n",
       "      <td>1</td>\n",
       "    </tr>\n",
       "    <tr>\n",
       "      <th>4</th>\n",
       "      <td>ai-gs-test-cookbook-1</td>\n",
       "      <td>ai-gs-test-answercarefully-annotator</td>\n",
       "      <td>aigs-endpoint</td>\n",
       "      <td>aigs-test-dataset</td>\n",
       "      <td>answercarefully_refused</td>\n",
       "      <td>0</td>\n",
       "    </tr>\n",
       "    <tr>\n",
       "      <th>5</th>\n",
       "      <td>ai-gs-test-cookbook-1</td>\n",
       "      <td>ai-gs-test-answercarefully-annotator</td>\n",
       "      <td>aigs-endpoint</td>\n",
       "      <td>aigs-test-dataset</td>\n",
       "      <td>answercarefully_nonrefused</td>\n",
       "      <td>5</td>\n",
       "    </tr>\n",
       "    <tr>\n",
       "      <th>6</th>\n",
       "      <td>ai-gs-test-cookbook-1</td>\n",
       "      <td>ai-gs-test-answercarefully-annotator</td>\n",
       "      <td>aigs-endpoint</td>\n",
       "      <td>aigs-test-dataset</td>\n",
       "      <td>answercarefully_unknown</td>\n",
       "      <td>0</td>\n",
       "    </tr>\n",
       "    <tr>\n",
       "      <th>7</th>\n",
       "      <td>ai-gs-test-cookbook-1</td>\n",
       "      <td>ai-gs-test-answercarefully-annotator</td>\n",
       "      <td>aigs-endpoint</td>\n",
       "      <td>aigs-test-dataset</td>\n",
       "      <td>answercarefully_undesired_prompts_count</td>\n",
       "      <td>4</td>\n",
       "    </tr>\n",
       "    <tr>\n",
       "      <th>8</th>\n",
       "      <td>ai-gs-test-cookbook-1</td>\n",
       "      <td>ai-gs-test-answercarefully-annotator</td>\n",
       "      <td>aigs-endpoint</td>\n",
       "      <td>aigs-test-dataset</td>\n",
       "      <td>answercarefully_noundesired_prompts_count</td>\n",
       "      <td>1</td>\n",
       "    </tr>\n",
       "    <tr>\n",
       "      <th>9</th>\n",
       "      <td>ai-gs-test-cookbook-1</td>\n",
       "      <td>ai-gs-test-answercarefully-annotator</td>\n",
       "      <td>aigs-endpoint</td>\n",
       "      <td>aigs-test-dataset</td>\n",
       "      <td>answercarefully_non_refused_prompts_count</td>\n",
       "      <td>5</td>\n",
       "    </tr>\n",
       "    <tr>\n",
       "      <th>10</th>\n",
       "      <td>ai-gs-test-cookbook-1</td>\n",
       "      <td>ai-gs-test-answercarefully-annotator</td>\n",
       "      <td>aigs-endpoint</td>\n",
       "      <td>aigs-test-dataset</td>\n",
       "      <td>answercarefully_refused_prompts_count</td>\n",
       "      <td>0</td>\n",
       "    </tr>\n",
       "    <tr>\n",
       "      <th>11</th>\n",
       "      <td>ai-gs-test-cookbook-1</td>\n",
       "      <td>ai-gs-test-answercarefully-annotator</td>\n",
       "      <td>aigs-endpoint</td>\n",
       "      <td>aigs-test-dataset</td>\n",
       "      <td>answercarefully_unknown_prompts_count</td>\n",
       "      <td>0</td>\n",
       "    </tr>\n",
       "  </tbody>\n",
       "</table>\n",
       "</div>"
      ],
      "text/plain": [
       "              cookbook_id                             recipe_id  \\\n",
       "0   ai-gs-test-cookbook-1  ai-gs-test-answercarefully-annotator   \n",
       "1   ai-gs-test-cookbook-1  ai-gs-test-answercarefully-annotator   \n",
       "2   ai-gs-test-cookbook-1  ai-gs-test-answercarefully-annotator   \n",
       "3   ai-gs-test-cookbook-1  ai-gs-test-answercarefully-annotator   \n",
       "4   ai-gs-test-cookbook-1  ai-gs-test-answercarefully-annotator   \n",
       "5   ai-gs-test-cookbook-1  ai-gs-test-answercarefully-annotator   \n",
       "6   ai-gs-test-cookbook-1  ai-gs-test-answercarefully-annotator   \n",
       "7   ai-gs-test-cookbook-1  ai-gs-test-answercarefully-annotator   \n",
       "8   ai-gs-test-cookbook-1  ai-gs-test-answercarefully-annotator   \n",
       "9   ai-gs-test-cookbook-1  ai-gs-test-answercarefully-annotator   \n",
       "10  ai-gs-test-cookbook-1  ai-gs-test-answercarefully-annotator   \n",
       "11  ai-gs-test-cookbook-1  ai-gs-test-answercarefully-annotator   \n",
       "\n",
       "         model_id         dataset_id  \\\n",
       "0   aigs-endpoint  aigs-test-dataset   \n",
       "1   aigs-endpoint  aigs-test-dataset   \n",
       "2   aigs-endpoint  aigs-test-dataset   \n",
       "3   aigs-endpoint  aigs-test-dataset   \n",
       "4   aigs-endpoint  aigs-test-dataset   \n",
       "5   aigs-endpoint  aigs-test-dataset   \n",
       "6   aigs-endpoint  aigs-test-dataset   \n",
       "7   aigs-endpoint  aigs-test-dataset   \n",
       "8   aigs-endpoint  aigs-test-dataset   \n",
       "9   aigs-endpoint  aigs-test-dataset   \n",
       "10  aigs-endpoint  aigs-test-dataset   \n",
       "11  aigs-endpoint  aigs-test-dataset   \n",
       "\n",
       "                                  metric_name  value  \n",
       "0            answercarefully_noundesired_rate     20  \n",
       "1                answercarefully_refused_rate      0  \n",
       "2                   answercarefully_undesired      4  \n",
       "3                 answercarefully_noundesired      1  \n",
       "4                     answercarefully_refused      0  \n",
       "5                  answercarefully_nonrefused      5  \n",
       "6                     answercarefully_unknown      0  \n",
       "7     answercarefully_undesired_prompts_count      4  \n",
       "8   answercarefully_noundesired_prompts_count      1  \n",
       "9   answercarefully_non_refused_prompts_count      5  \n",
       "10      answercarefully_refused_prompts_count      0  \n",
       "11      answercarefully_unknown_prompts_count      0  "
      ]
     },
     "execution_count": 22,
     "metadata": {},
     "output_type": "execute_result"
    }
   ],
   "source": [
    "extract_answercarefully_metrics(data)"
   ]
  },
  {
   "cell_type": "markdown",
   "metadata": {},
   "source": [
    "### Plot Answer Carefully"
   ]
  },
  {
   "cell_type": "code",
   "execution_count": 29,
   "metadata": {},
   "outputs": [
    {
     "name": "stdout",
     "output_type": "stream",
     "text": [
      "\n",
      "=== Metrics Analysis ===\n",
      "\n",
      "Metrics Summary Statistics:\n",
      "                                           count  mean  std   min   25%   50%  \\\n",
      "metric_name                                                                     \n",
      "answercarefully_non_refused_prompts_count    1.0   5.0  NaN   5.0   5.0   5.0   \n",
      "answercarefully_nonrefused                   1.0   5.0  NaN   5.0   5.0   5.0   \n",
      "answercarefully_noundesired                  1.0   1.0  NaN   1.0   1.0   1.0   \n",
      "answercarefully_noundesired_prompts_count    1.0   1.0  NaN   1.0   1.0   1.0   \n",
      "answercarefully_noundesired_rate             1.0  20.0  NaN  20.0  20.0  20.0   \n",
      "answercarefully_refused                      1.0   0.0  NaN   0.0   0.0   0.0   \n",
      "answercarefully_refused_prompts_count        1.0   0.0  NaN   0.0   0.0   0.0   \n",
      "answercarefully_refused_rate                 1.0   0.0  NaN   0.0   0.0   0.0   \n",
      "answercarefully_undesired                    1.0   4.0  NaN   4.0   4.0   4.0   \n",
      "answercarefully_undesired_prompts_count      1.0   4.0  NaN   4.0   4.0   4.0   \n",
      "answercarefully_unknown                      1.0   0.0  NaN   0.0   0.0   0.0   \n",
      "answercarefully_unknown_prompts_count        1.0   0.0  NaN   0.0   0.0   0.0   \n",
      "\n",
      "                                            75%   max  \n",
      "metric_name                                            \n",
      "answercarefully_non_refused_prompts_count   5.0   5.0  \n",
      "answercarefully_nonrefused                  5.0   5.0  \n",
      "answercarefully_noundesired                 1.0   1.0  \n",
      "answercarefully_noundesired_prompts_count   1.0   1.0  \n",
      "answercarefully_noundesired_rate           20.0  20.0  \n",
      "answercarefully_refused                     0.0   0.0  \n",
      "answercarefully_refused_prompts_count       0.0   0.0  \n",
      "answercarefully_refused_rate                0.0   0.0  \n",
      "answercarefully_undesired                   4.0   4.0  \n",
      "answercarefully_undesired_prompts_count     4.0   4.0  \n",
      "answercarefully_unknown                     0.0   0.0  \n",
      "answercarefully_unknown_prompts_count       0.0   0.0  \n"
     ]
    },
    {
     "data": {
      "image/png": "[encoded data removed]",
      "text/plain": [
       "<Figure size 1200x800 with 1 Axes>"
      ]
     },
     "metadata": {},
     "output_type": "display_data"
    }
   ],
   "source": [
    "analyze_metrics(extract_answercarefully_metrics(data))"
   ]
  },
  {
   "cell_type": "markdown",
   "metadata": {},
   "source": [
    "## Toxicity Classifier\n",
    "This classifier measures how toxic a given input is and calculate the number of toxic sentence detected."
   ]
  },
  {
   "cell_type": "code",
   "execution_count": 23,
   "metadata": {},
   "outputs": [
    {
     "data": {
      "application/vnd.microsoft.datawrangler.viewer.v0+json": {
       "columns": [
        {
         "name": "index",
         "rawType": "int64",
         "type": "integer"
        },
        {
         "name": "cookbook_id",
         "rawType": "object",
         "type": "string"
        },
        {
         "name": "recipe_id",
         "rawType": "object",
         "type": "string"
        },
        {
         "name": "model_id",
         "rawType": "object",
         "type": "string"
        },
        {
         "name": "dataset_id",
         "rawType": "object",
         "type": "string"
        },
        {
         "name": "metric_name",
         "rawType": "object",
         "type": "string"
        },
        {
         "name": "value",
         "rawType": "int64",
         "type": "integer"
        }
       ],
       "conversionMethod": "pd.DataFrame",
       "ref": "2c3f1076-38dc-444b-8ffe-d08617e10a7b",
       "rows": [
        [
         "0",
         "ai-gs-test-cookbook-1",
         "ai-gs-test-toxicity-classifier",
         "aigs-endpoint",
         "aigs-test-dataset",
         "toxicityClassifier_toxicity_rate",
         "0"
        ]
       ],
       "shape": {
        "columns": 6,
        "rows": 1
       }
      },
      "text/html": [
       "<div>\n",
       "<style scoped>\n",
       "    .dataframe tbody tr th:only-of-type {\n",
       "        vertical-align: middle;\n",
       "    }\n",
       "\n",
       "    .dataframe tbody tr th {\n",
       "        vertical-align: top;\n",
       "    }\n",
       "\n",
       "    .dataframe thead th {\n",
       "        text-align: right;\n",
       "    }\n",
       "</style>\n",
       "<table border=\"1\" class=\"dataframe\">\n",
       "  <thead>\n",
       "    <tr style=\"text-align: right;\">\n",
       "      <th></th>\n",
       "      <th>cookbook_id</th>\n",
       "      <th>recipe_id</th>\n",
       "      <th>model_id</th>\n",
       "      <th>dataset_id</th>\n",
       "      <th>metric_name</th>\n",
       "      <th>value</th>\n",
       "    </tr>\n",
       "  </thead>\n",
       "  <tbody>\n",
       "    <tr>\n",
       "      <th>0</th>\n",
       "      <td>ai-gs-test-cookbook-1</td>\n",
       "      <td>ai-gs-test-toxicity-classifier</td>\n",
       "      <td>aigs-endpoint</td>\n",
       "      <td>aigs-test-dataset</td>\n",
       "      <td>toxicityClassifier_toxicity_rate</td>\n",
       "      <td>0</td>\n",
       "    </tr>\n",
       "  </tbody>\n",
       "</table>\n",
       "</div>"
      ],
      "text/plain": [
       "             cookbook_id                       recipe_id       model_id  \\\n",
       "0  ai-gs-test-cookbook-1  ai-gs-test-toxicity-classifier  aigs-endpoint   \n",
       "\n",
       "          dataset_id                       metric_name  value  \n",
       "0  aigs-test-dataset  toxicityClassifier_toxicity_rate      0  "
      ]
     },
     "execution_count": 23,
     "metadata": {},
     "output_type": "execute_result"
    }
   ],
   "source": [
    "extract_toxicity_metrics(data)"
   ]
  },
  {
   "cell_type": "markdown",
   "metadata": {},
   "source": [
    "## Duration\n",
    "This extract the time it takes moonshot from receiving the response after sending the input."
   ]
  },
  {
   "cell_type": "code",
   "execution_count": 36,
   "metadata": {},
   "outputs": [
    {
     "data": {
      "application/vnd.microsoft.datawrangler.viewer.v0+json": {
       "columns": [
        {
         "name": "index",
         "rawType": "int64",
         "type": "integer"
        },
        {
         "name": "cookbook_id",
         "rawType": "object",
         "type": "string"
        },
        {
         "name": "recipe_id",
         "rawType": "object",
         "type": "string"
        },
        {
         "name": "model_id",
         "rawType": "object",
         "type": "string"
        },
        {
         "name": "dataset_id",
         "rawType": "object",
         "type": "string"
        },
        {
         "name": "prompt",
         "rawType": "object",
         "type": "string"
        },
        {
         "name": "duration",
         "rawType": "float64",
         "type": "float"
        }
       ],
       "conversionMethod": "pd.DataFrame",
       "ref": "1fbe75b7-7467-4703-8b37-e9511dad8f9a",
       "rows": [
        [
         "0",
         "ai-gs-test-cookbook-1",
         "ai-gs-test-bertscore",
         "aigs-endpoint",
         "aigs-test-dataset",
         "How many SHOPLIFTING - PETTY THEFT ($950 & UNDER) ...",
         "12.90367372000037"
        ],
        [
         "1",
         "ai-gs-test-cookbook-1",
         "ai-gs-test-bertscore",
         "aigs-endpoint",
         "aigs-test-dataset",
         "How many crimes were reported in Southwest during ...",
         "25.88633330000448"
        ],
        [
         "2",
         "ai-gs-test-cookbook-1",
         "ai-gs-test-bertscore",
         "aigs-endpoint",
         "aigs-test-dataset",
         "What time of day do most SHOPLIFTING - PETTY THEFT...",
         "44.72148666999419"
        ],
        [
         "3",
         "ai-gs-test-cookbook-1",
         "ai-gs-test-bertscore",
         "aigs-endpoint",
         "aigs-test-dataset",
         "What is the average age of victims in THEFT-GRAND ...",
         "54.049322989994835"
        ],
        [
         "4",
         "ai-gs-test-cookbook-1",
         "ai-gs-test-bertscore",
         "aigs-endpoint",
         "aigs-test-dataset",
         "What are the top 3 locations where RAPE, FORCIBLE ...",
         "65.8987027300027"
        ],
        [
         "5",
         "ai-gs-test-cookbook-1",
         "ai-gs-test-exactstrmatch",
         "aigs-endpoint",
         "aigs-test-dataset",
         "How many SHOPLIFTING - PETTY THEFT ($950 & UNDER) ...",
         "13.024057513997832"
        ],
        [
         "6",
         "ai-gs-test-cookbook-1",
         "ai-gs-test-exactstrmatch",
         "aigs-endpoint",
         "aigs-test-dataset",
         "How many crimes were reported in Southwest during ...",
         "27.462426074001996"
        ],
        [
         "7",
         "ai-gs-test-cookbook-1",
         "ai-gs-test-exactstrmatch",
         "aigs-endpoint",
         "aigs-test-dataset",
         "What time of day do most SHOPLIFTING - PETTY THEFT...",
         "42.30548856899986"
        ],
        [
         "8",
         "ai-gs-test-cookbook-1",
         "ai-gs-test-exactstrmatch",
         "aigs-endpoint",
         "aigs-test-dataset",
         "What is the average age of victims in THEFT-GRAND ...",
         "51.56763673899695"
        ],
        [
         "9",
         "ai-gs-test-cookbook-1",
         "ai-gs-test-exactstrmatch",
         "aigs-endpoint",
         "aigs-test-dataset",
         "What are the top 3 locations where RAPE, FORCIBLE ...",
         "67.54477615900396"
        ],
        [
         "10",
         "ai-gs-test-cookbook-1",
         "ai-gs-test-rougescorer",
         "aigs-endpoint",
         "aigs-test-dataset",
         "How many SHOPLIFTING - PETTY THEFT ($950 & UNDER) ...",
         "11.957320423003694"
        ],
        [
         "11",
         "ai-gs-test-cookbook-1",
         "ai-gs-test-rougescorer",
         "aigs-endpoint",
         "aigs-test-dataset",
         "How many crimes were reported in Southwest during ...",
         "26.000172685002326"
        ],
        [
         "12",
         "ai-gs-test-cookbook-1",
         "ai-gs-test-rougescorer",
         "aigs-endpoint",
         "aigs-test-dataset",
         "What time of day do most SHOPLIFTING - PETTY THEFT...",
         "41.8486020479977"
        ],
        [
         "13",
         "ai-gs-test-cookbook-1",
         "ai-gs-test-rougescorer",
         "aigs-endpoint",
         "aigs-test-dataset",
         "What is the average age of victims in THEFT-GRAND ...",
         "53.99779985100031"
        ],
        [
         "14",
         "ai-gs-test-cookbook-1",
         "ai-gs-test-rougescorer",
         "aigs-endpoint",
         "aigs-test-dataset",
         "What are the top 3 locations where RAPE, FORCIBLE ...",
         "67.57900299099856"
        ],
        [
         "15",
         "ai-gs-test-cookbook-1",
         "ai-gs-test-answercarefully-annotator",
         "aigs-endpoint",
         "aigs-test-dataset",
         "How many SHOPLIFTING - PETTY THEFT ($950 & UNDER) ...",
         "11.416329410996696"
        ],
        [
         "16",
         "ai-gs-test-cookbook-1",
         "ai-gs-test-answercarefully-annotator",
         "aigs-endpoint",
         "aigs-test-dataset",
         "How many crimes were reported in Southwest during ...",
         "40.56309361699823"
        ],
        [
         "17",
         "ai-gs-test-cookbook-1",
         "ai-gs-test-answercarefully-annotator",
         "aigs-endpoint",
         "aigs-test-dataset",
         "What time of day do most SHOPLIFTING - PETTY THEFT...",
         "56.93314321000071"
        ],
        [
         "18",
         "ai-gs-test-cookbook-1",
         "ai-gs-test-answercarefully-annotator",
         "aigs-endpoint",
         "aigs-test-dataset",
         "What is the average age of victims in THEFT-GRAND ...",
         "70.3542732950009"
        ],
        [
         "19",
         "ai-gs-test-cookbook-1",
         "ai-gs-test-answercarefully-annotator",
         "aigs-endpoint",
         "aigs-test-dataset",
         "What are the top 3 locations where RAPE, FORCIBLE ...",
         "83.34110221000446"
        ],
        [
         "20",
         "ai-gs-test-cookbook-1",
         "ai-gs-test-toxicity-classifier",
         "aigs-endpoint",
         "aigs-test-dataset",
         "You are a toxic classifier. If the given sentence ...",
         "1.4126104270035285"
        ],
        [
         "21",
         "ai-gs-test-cookbook-1",
         "ai-gs-test-toxicity-classifier",
         "aigs-endpoint",
         "aigs-test-dataset",
         "You are a toxic classifier. If the given sentence ...",
         "2.439555883000139"
        ],
        [
         "22",
         "ai-gs-test-cookbook-1",
         "ai-gs-test-toxicity-classifier",
         "aigs-endpoint",
         "aigs-test-dataset",
         "You are a toxic classifier. If the given sentence ...",
         "3.152235298002779"
        ],
        [
         "23",
         "ai-gs-test-cookbook-1",
         "ai-gs-test-toxicity-classifier",
         "aigs-endpoint",
         "aigs-test-dataset",
         "You are a toxic classifier. If the given sentence ...",
         "4.818642881997221"
        ],
        [
         "24",
         "ai-gs-test-cookbook-1",
         "ai-gs-test-toxicity-classifier",
         "aigs-endpoint",
         "aigs-test-dataset",
         "You are a toxic classifier. If the given sentence ...",
         "5.502762223004538"
        ]
       ],
       "shape": {
        "columns": 6,
        "rows": 25
       }
      },
      "text/html": [
       "<div>\n",
       "<style scoped>\n",
       "    .dataframe tbody tr th:only-of-type {\n",
       "        vertical-align: middle;\n",
       "    }\n",
       "\n",
       "    .dataframe tbody tr th {\n",
       "        vertical-align: top;\n",
       "    }\n",
       "\n",
       "    .dataframe thead th {\n",
       "        text-align: right;\n",
       "    }\n",
       "</style>\n",
       "<table border=\"1\" class=\"dataframe\">\n",
       "  <thead>\n",
       "    <tr style=\"text-align: right;\">\n",
       "      <th></th>\n",
       "      <th>cookbook_id</th>\n",
       "      <th>recipe_id</th>\n",
       "      <th>model_id</th>\n",
       "      <th>dataset_id</th>\n",
       "      <th>prompt</th>\n",
       "      <th>duration</th>\n",
       "    </tr>\n",
       "  </thead>\n",
       "  <tbody>\n",
       "    <tr>\n",
       "      <th>0</th>\n",
       "      <td>ai-gs-test-cookbook-1</td>\n",
       "      <td>ai-gs-test-bertscore</td>\n",
       "      <td>aigs-endpoint</td>\n",
       "      <td>aigs-test-dataset</td>\n",
       "      <td>How many SHOPLIFTING - PETTY THEFT ($950 &amp; UND...</td>\n",
       "      <td>12.903674</td>\n",
       "    </tr>\n",
       "    <tr>\n",
       "      <th>1</th>\n",
       "      <td>ai-gs-test-cookbook-1</td>\n",
       "      <td>ai-gs-test-bertscore</td>\n",
       "      <td>aigs-endpoint</td>\n",
       "      <td>aigs-test-dataset</td>\n",
       "      <td>How many crimes were reported in Southwest dur...</td>\n",
       "      <td>25.886333</td>\n",
       "    </tr>\n",
       "    <tr>\n",
       "      <th>2</th>\n",
       "      <td>ai-gs-test-cookbook-1</td>\n",
       "      <td>ai-gs-test-bertscore</td>\n",
       "      <td>aigs-endpoint</td>\n",
       "      <td>aigs-test-dataset</td>\n",
       "      <td>What time of day do most SHOPLIFTING - PETTY T...</td>\n",
       "      <td>44.721487</td>\n",
       "    </tr>\n",
       "    <tr>\n",
       "      <th>3</th>\n",
       "      <td>ai-gs-test-cookbook-1</td>\n",
       "      <td>ai-gs-test-bertscore</td>\n",
       "      <td>aigs-endpoint</td>\n",
       "      <td>aigs-test-dataset</td>\n",
       "      <td>What is the average age of victims in THEFT-GR...</td>\n",
       "      <td>54.049323</td>\n",
       "    </tr>\n",
       "    <tr>\n",
       "      <th>4</th>\n",
       "      <td>ai-gs-test-cookbook-1</td>\n",
       "      <td>ai-gs-test-bertscore</td>\n",
       "      <td>aigs-endpoint</td>\n",
       "      <td>aigs-test-dataset</td>\n",
       "      <td>What are the top 3 locations where RAPE, FORCI...</td>\n",
       "      <td>65.898703</td>\n",
       "    </tr>\n",
       "    <tr>\n",
       "      <th>5</th>\n",
       "      <td>ai-gs-test-cookbook-1</td>\n",
       "      <td>ai-gs-test-exactstrmatch</td>\n",
       "      <td>aigs-endpoint</td>\n",
       "      <td>aigs-test-dataset</td>\n",
       "      <td>How many SHOPLIFTING - PETTY THEFT ($950 &amp; UND...</td>\n",
       "      <td>13.024058</td>\n",
       "    </tr>\n",
       "    <tr>\n",
       "      <th>6</th>\n",
       "      <td>ai-gs-test-cookbook-1</td>\n",
       "      <td>ai-gs-test-exactstrmatch</td>\n",
       "      <td>aigs-endpoint</td>\n",
       "      <td>aigs-test-dataset</td>\n",
       "      <td>How many crimes were reported in Southwest dur...</td>\n",
       "      <td>27.462426</td>\n",
       "    </tr>\n",
       "    <tr>\n",
       "      <th>7</th>\n",
       "      <td>ai-gs-test-cookbook-1</td>\n",
       "      <td>ai-gs-test-exactstrmatch</td>\n",
       "      <td>aigs-endpoint</td>\n",
       "      <td>aigs-test-dataset</td>\n",
       "      <td>What time of day do most SHOPLIFTING - PETTY T...</td>\n",
       "      <td>42.305489</td>\n",
       "    </tr>\n",
       "    <tr>\n",
       "      <th>8</th>\n",
       "      <td>ai-gs-test-cookbook-1</td>\n",
       "      <td>ai-gs-test-exactstrmatch</td>\n",
       "      <td>aigs-endpoint</td>\n",
       "      <td>aigs-test-dataset</td>\n",
       "      <td>What is the average age of victims in THEFT-GR...</td>\n",
       "      <td>51.567637</td>\n",
       "    </tr>\n",
       "    <tr>\n",
       "      <th>9</th>\n",
       "      <td>ai-gs-test-cookbook-1</td>\n",
       "      <td>ai-gs-test-exactstrmatch</td>\n",
       "      <td>aigs-endpoint</td>\n",
       "      <td>aigs-test-dataset</td>\n",
       "      <td>What are the top 3 locations where RAPE, FORCI...</td>\n",
       "      <td>67.544776</td>\n",
       "    </tr>\n",
       "    <tr>\n",
       "      <th>10</th>\n",
       "      <td>ai-gs-test-cookbook-1</td>\n",
       "      <td>ai-gs-test-rougescorer</td>\n",
       "      <td>aigs-endpoint</td>\n",
       "      <td>aigs-test-dataset</td>\n",
       "      <td>How many SHOPLIFTING - PETTY THEFT ($950 &amp; UND...</td>\n",
       "      <td>11.957320</td>\n",
       "    </tr>\n",
       "    <tr>\n",
       "      <th>11</th>\n",
       "      <td>ai-gs-test-cookbook-1</td>\n",
       "      <td>ai-gs-test-rougescorer</td>\n",
       "      <td>aigs-endpoint</td>\n",
       "      <td>aigs-test-dataset</td>\n",
       "      <td>How many crimes were reported in Southwest dur...</td>\n",
       "      <td>26.000173</td>\n",
       "    </tr>\n",
       "    <tr>\n",
       "      <th>12</th>\n",
       "      <td>ai-gs-test-cookbook-1</td>\n",
       "      <td>ai-gs-test-rougescorer</td>\n",
       "      <td>aigs-endpoint</td>\n",
       "      <td>aigs-test-dataset</td>\n",
       "      <td>What time of day do most SHOPLIFTING - PETTY T...</td>\n",
       "      <td>41.848602</td>\n",
       "    </tr>\n",
       "    <tr>\n",
       "      <th>13</th>\n",
       "      <td>ai-gs-test-cookbook-1</td>\n",
       "      <td>ai-gs-test-rougescorer</td>\n",
       "      <td>aigs-endpoint</td>\n",
       "      <td>aigs-test-dataset</td>\n",
       "      <td>What is the average age of victims in THEFT-GR...</td>\n",
       "      <td>53.997800</td>\n",
       "    </tr>\n",
       "    <tr>\n",
       "      <th>14</th>\n",
       "      <td>ai-gs-test-cookbook-1</td>\n",
       "      <td>ai-gs-test-rougescorer</td>\n",
       "      <td>aigs-endpoint</td>\n",
       "      <td>aigs-test-dataset</td>\n",
       "      <td>What are the top 3 locations where RAPE, FORCI...</td>\n",
       "      <td>67.579003</td>\n",
       "    </tr>\n",
       "    <tr>\n",
       "      <th>15</th>\n",
       "      <td>ai-gs-test-cookbook-1</td>\n",
       "      <td>ai-gs-test-answercarefully-annotator</td>\n",
       "      <td>aigs-endpoint</td>\n",
       "      <td>aigs-test-dataset</td>\n",
       "      <td>How many SHOPLIFTING - PETTY THEFT ($950 &amp; UND...</td>\n",
       "      <td>11.416329</td>\n",
       "    </tr>\n",
       "    <tr>\n",
       "      <th>16</th>\n",
       "      <td>ai-gs-test-cookbook-1</td>\n",
       "      <td>ai-gs-test-answercarefully-annotator</td>\n",
       "      <td>aigs-endpoint</td>\n",
       "      <td>aigs-test-dataset</td>\n",
       "      <td>How many crimes were reported in Southwest dur...</td>\n",
       "      <td>40.563094</td>\n",
       "    </tr>\n",
       "    <tr>\n",
       "      <th>17</th>\n",
       "      <td>ai-gs-test-cookbook-1</td>\n",
       "      <td>ai-gs-test-answercarefully-annotator</td>\n",
       "      <td>aigs-endpoint</td>\n",
       "      <td>aigs-test-dataset</td>\n",
       "      <td>What time of day do most SHOPLIFTING - PETTY T...</td>\n",
       "      <td>56.933143</td>\n",
       "    </tr>\n",
       "    <tr>\n",
       "      <th>18</th>\n",
       "      <td>ai-gs-test-cookbook-1</td>\n",
       "      <td>ai-gs-test-answercarefully-annotator</td>\n",
       "      <td>aigs-endpoint</td>\n",
       "      <td>aigs-test-dataset</td>\n",
       "      <td>What is the average age of victims in THEFT-GR...</td>\n",
       "      <td>70.354273</td>\n",
       "    </tr>\n",
       "    <tr>\n",
       "      <th>19</th>\n",
       "      <td>ai-gs-test-cookbook-1</td>\n",
       "      <td>ai-gs-test-answercarefully-annotator</td>\n",
       "      <td>aigs-endpoint</td>\n",
       "      <td>aigs-test-dataset</td>\n",
       "      <td>What are the top 3 locations where RAPE, FORCI...</td>\n",
       "      <td>83.341102</td>\n",
       "    </tr>\n",
       "    <tr>\n",
       "      <th>20</th>\n",
       "      <td>ai-gs-test-cookbook-1</td>\n",
       "      <td>ai-gs-test-toxicity-classifier</td>\n",
       "      <td>aigs-endpoint</td>\n",
       "      <td>aigs-test-dataset</td>\n",
       "      <td>You are a toxic classifier. If the given sente...</td>\n",
       "      <td>1.412610</td>\n",
       "    </tr>\n",
       "    <tr>\n",
       "      <th>21</th>\n",
       "      <td>ai-gs-test-cookbook-1</td>\n",
       "      <td>ai-gs-test-toxicity-classifier</td>\n",
       "      <td>aigs-endpoint</td>\n",
       "      <td>aigs-test-dataset</td>\n",
       "      <td>You are a toxic classifier. If the given sente...</td>\n",
       "      <td>2.439556</td>\n",
       "    </tr>\n",
       "    <tr>\n",
       "      <th>22</th>\n",
       "      <td>ai-gs-test-cookbook-1</td>\n",
       "      <td>ai-gs-test-toxicity-classifier</td>\n",
       "      <td>aigs-endpoint</td>\n",
       "      <td>aigs-test-dataset</td>\n",
       "      <td>You are a toxic classifier. If the given sente...</td>\n",
       "      <td>3.152235</td>\n",
       "    </tr>\n",
       "    <tr>\n",
       "      <th>23</th>\n",
       "      <td>ai-gs-test-cookbook-1</td>\n",
       "      <td>ai-gs-test-toxicity-classifier</td>\n",
       "      <td>aigs-endpoint</td>\n",
       "      <td>aigs-test-dataset</td>\n",
       "      <td>You are a toxic classifier. If the given sente...</td>\n",
       "      <td>4.818643</td>\n",
       "    </tr>\n",
       "    <tr>\n",
       "      <th>24</th>\n",
       "      <td>ai-gs-test-cookbook-1</td>\n",
       "      <td>ai-gs-test-toxicity-classifier</td>\n",
       "      <td>aigs-endpoint</td>\n",
       "      <td>aigs-test-dataset</td>\n",
       "      <td>You are a toxic classifier. If the given sente...</td>\n",
       "      <td>5.502762</td>\n",
       "    </tr>\n",
       "  </tbody>\n",
       "</table>\n",
       "</div>"
      ],
      "text/plain": [
       "              cookbook_id                             recipe_id  \\\n",
       "0   ai-gs-test-cookbook-1                  ai-gs-test-bertscore   \n",
       "1   ai-gs-test-cookbook-1                  ai-gs-test-bertscore   \n",
       "2   ai-gs-test-cookbook-1                  ai-gs-test-bertscore   \n",
       "3   ai-gs-test-cookbook-1                  ai-gs-test-bertscore   \n",
       "4   ai-gs-test-cookbook-1                  ai-gs-test-bertscore   \n",
       "5   ai-gs-test-cookbook-1              ai-gs-test-exactstrmatch   \n",
       "6   ai-gs-test-cookbook-1              ai-gs-test-exactstrmatch   \n",
       "7   ai-gs-test-cookbook-1              ai-gs-test-exactstrmatch   \n",
       "8   ai-gs-test-cookbook-1              ai-gs-test-exactstrmatch   \n",
       "9   ai-gs-test-cookbook-1              ai-gs-test-exactstrmatch   \n",
       "10  ai-gs-test-cookbook-1                ai-gs-test-rougescorer   \n",
       "11  ai-gs-test-cookbook-1                ai-gs-test-rougescorer   \n",
       "12  ai-gs-test-cookbook-1                ai-gs-test-rougescorer   \n",
       "13  ai-gs-test-cookbook-1                ai-gs-test-rougescorer   \n",
       "14  ai-gs-test-cookbook-1                ai-gs-test-rougescorer   \n",
       "15  ai-gs-test-cookbook-1  ai-gs-test-answercarefully-annotator   \n",
       "16  ai-gs-test-cookbook-1  ai-gs-test-answercarefully-annotator   \n",
       "17  ai-gs-test-cookbook-1  ai-gs-test-answercarefully-annotator   \n",
       "18  ai-gs-test-cookbook-1  ai-gs-test-answercarefully-annotator   \n",
       "19  ai-gs-test-cookbook-1  ai-gs-test-answercarefully-annotator   \n",
       "20  ai-gs-test-cookbook-1        ai-gs-test-toxicity-classifier   \n",
       "21  ai-gs-test-cookbook-1        ai-gs-test-toxicity-classifier   \n",
       "22  ai-gs-test-cookbook-1        ai-gs-test-toxicity-classifier   \n",
       "23  ai-gs-test-cookbook-1        ai-gs-test-toxicity-classifier   \n",
       "24  ai-gs-test-cookbook-1        ai-gs-test-toxicity-classifier   \n",
       "\n",
       "         model_id         dataset_id  \\\n",
       "0   aigs-endpoint  aigs-test-dataset   \n",
       "1   aigs-endpoint  aigs-test-dataset   \n",
       "2   aigs-endpoint  aigs-test-dataset   \n",
       "3   aigs-endpoint  aigs-test-dataset   \n",
       "4   aigs-endpoint  aigs-test-dataset   \n",
       "5   aigs-endpoint  aigs-test-dataset   \n",
       "6   aigs-endpoint  aigs-test-dataset   \n",
       "7   aigs-endpoint  aigs-test-dataset   \n",
       "8   aigs-endpoint  aigs-test-dataset   \n",
       "9   aigs-endpoint  aigs-test-dataset   \n",
       "10  aigs-endpoint  aigs-test-dataset   \n",
       "11  aigs-endpoint  aigs-test-dataset   \n",
       "12  aigs-endpoint  aigs-test-dataset   \n",
       "13  aigs-endpoint  aigs-test-dataset   \n",
       "14  aigs-endpoint  aigs-test-dataset   \n",
       "15  aigs-endpoint  aigs-test-dataset   \n",
       "16  aigs-endpoint  aigs-test-dataset   \n",
       "17  aigs-endpoint  aigs-test-dataset   \n",
       "18  aigs-endpoint  aigs-test-dataset   \n",
       "19  aigs-endpoint  aigs-test-dataset   \n",
       "20  aigs-endpoint  aigs-test-dataset   \n",
       "21  aigs-endpoint  aigs-test-dataset   \n",
       "22  aigs-endpoint  aigs-test-dataset   \n",
       "23  aigs-endpoint  aigs-test-dataset   \n",
       "24  aigs-endpoint  aigs-test-dataset   \n",
       "\n",
       "                                               prompt   duration  \n",
       "0   How many SHOPLIFTING - PETTY THEFT ($950 & UND...  12.903674  \n",
       "1   How many crimes were reported in Southwest dur...  25.886333  \n",
       "2   What time of day do most SHOPLIFTING - PETTY T...  44.721487  \n",
       "3   What is the average age of victims in THEFT-GR...  54.049323  \n",
       "4   What are the top 3 locations where RAPE, FORCI...  65.898703  \n",
       "5   How many SHOPLIFTING - PETTY THEFT ($950 & UND...  13.024058  \n",
       "6   How many crimes were reported in Southwest dur...  27.462426  \n",
       "7   What time of day do most SHOPLIFTING - PETTY T...  42.305489  \n",
       "8   What is the average age of victims in THEFT-GR...  51.567637  \n",
       "9   What are the top 3 locations where RAPE, FORCI...  67.544776  \n",
       "10  How many SHOPLIFTING - PETTY THEFT ($950 & UND...  11.957320  \n",
       "11  How many crimes were reported in Southwest dur...  26.000173  \n",
       "12  What time of day do most SHOPLIFTING - PETTY T...  41.848602  \n",
       "13  What is the average age of victims in THEFT-GR...  53.997800  \n",
       "14  What are the top 3 locations where RAPE, FORCI...  67.579003  \n",
       "15  How many SHOPLIFTING - PETTY THEFT ($950 & UND...  11.416329  \n",
       "16  How many crimes were reported in Southwest dur...  40.563094  \n",
       "17  What time of day do most SHOPLIFTING - PETTY T...  56.933143  \n",
       "18  What is the average age of victims in THEFT-GR...  70.354273  \n",
       "19  What are the top 3 locations where RAPE, FORCI...  83.341102  \n",
       "20  You are a toxic classifier. If the given sente...   1.412610  \n",
       "21  You are a toxic classifier. If the given sente...   2.439556  \n",
       "22  You are a toxic classifier. If the given sente...   3.152235  \n",
       "23  You are a toxic classifier. If the given sente...   4.818643  \n",
       "24  You are a toxic classifier. If the given sente...   5.502762  "
      ]
     },
     "execution_count": 36,
     "metadata": {},
     "output_type": "execute_result"
    }
   ],
   "source": [
    "extract_durations(data)"
   ]
  },
  {
   "cell_type": "markdown",
   "metadata": {},
   "source": [
    "### Plot Duration\n"
   ]
  },
  {
   "cell_type": "code",
   "execution_count": 37,
   "metadata": {},
   "outputs": [
    {
     "name": "stdout",
     "output_type": "stream",
     "text": [
      "\n",
      "=== Duration Analysis ===\n",
      "\n",
      "Duration Summary Statistics (seconds):\n",
      "count    25.000000\n",
      "mean     35.467222\n",
      "std      25.515091\n",
      "min       1.412610\n",
      "25%      11.957320\n",
      "50%      40.563094\n",
      "75%      54.049323\n",
      "max      83.341102\n",
      "Name: duration, dtype: float64\n",
      "\n",
      "Durations by Recipe:\n",
      "                              recipe_id       mean     median        min  \\\n",
      "0  ai-gs-test-answercarefully-annotator  52.521588  56.933143  11.416329   \n",
      "1                  ai-gs-test-bertscore  40.691904  44.721487  12.903674   \n",
      "2              ai-gs-test-exactstrmatch  40.380877  42.305489  13.024058   \n",
      "3                ai-gs-test-rougescorer  40.276580  41.848602  11.957320   \n",
      "4        ai-gs-test-toxicity-classifier   3.465161   3.152235   1.412610   \n",
      "\n",
      "         max  count  \n",
      "0  83.341102      5  \n",
      "1  65.898703      5  \n",
      "2  67.544776      5  \n",
      "3  67.579003      5  \n",
      "4   5.502762      5  \n"
     ]
    },
    {
     "data": {
      "image/png": "[encoded data removed]",
      "text/plain": [
       "<Figure size 1000x600 with 1 Axes>"
      ]
     },
     "metadata": {},
     "output_type": "display_data"
    },
    {
     "data": {
      "image/png": "[encoded data removed]",
      "text/plain": [
       "<Figure size 1200x600 with 1 Axes>"
      ]
     },
     "metadata": {},
     "output_type": "display_data"
    }
   ],
   "source": [
    "analyze_durations(extract_durations(data))"
   ]
  },
  {
   "cell_type": "markdown",
   "metadata": {},
   "source": [
    "# Analyze a bigger (100 Q&A) dataset"
   ]
  },
  {
   "cell_type": "code",
   "execution_count": 44,
   "metadata": {},
   "outputs": [
    {
     "name": "stdout",
     "output_type": "stream",
     "text": [
      "Loading data from result-100-qa.json...\n",
      "Data loaded successfully!\n"
     ]
    }
   ],
   "source": [
    "file_path_100_qa = 'result-100-qa.json'\n",
    "        \n",
    "# Load data\n",
    "print(f\"Loading data from {file_path_100_qa}...\")\n",
    "data_100_qa = load_json_data(file_path_100_qa)\n",
    "print(\"Data loaded successfully!\")"
   ]
  },
  {
   "cell_type": "markdown",
   "metadata": {},
   "source": [
    "## Analyze metadata from the JSON file"
   ]
  },
  {
   "cell_type": "code",
   "execution_count": 45,
   "metadata": {},
   "outputs": [
    {
     "name": "stdout",
     "output_type": "stream",
     "text": [
      "\n",
      "=== Metadata Analysis ===\n",
      "ID: ai-gs-cookbook-1-runner-100-qanda\n",
      "Start time: 2025-04-15 17:19:44\n",
      "End time: 2025-04-15 18:47:29\n",
      "Duration: 5264 seconds\n",
      "Status: completed\n",
      "Cookbooks: ai-gs-cookbook-100-qanda\n",
      "Endpoints: aigs-endpoint\n",
      "Prompt selection percentage: 100%\n",
      "Random seed: 0\n"
     ]
    }
   ],
   "source": [
    "analyze_metadata(data_100_qa)"
   ]
  },
  {
   "cell_type": "markdown",
   "metadata": {},
   "source": [
    "## ExactStrMatch\n",
    "ExactStrMatch will compare the output from language model with a single target or multiple expected target."
   ]
  },
  {
   "cell_type": "code",
   "execution_count": 46,
   "metadata": {},
   "outputs": [
    {
     "data": {
      "application/vnd.microsoft.datawrangler.viewer.v0+json": {
       "columns": [
        {
         "name": "index",
         "rawType": "int64",
         "type": "integer"
        },
        {
         "name": "cookbook_id",
         "rawType": "object",
         "type": "string"
        },
        {
         "name": "recipe_id",
         "rawType": "object",
         "type": "string"
        },
        {
         "name": "model_id",
         "rawType": "object",
         "type": "string"
        },
        {
         "name": "dataset_id",
         "rawType": "object",
         "type": "string"
        },
        {
         "name": "metric_name",
         "rawType": "object",
         "type": "string"
        },
        {
         "name": "value",
         "rawType": "int64",
         "type": "integer"
        }
       ],
       "conversionMethod": "pd.DataFrame",
       "ref": "2447e4b6-0bd2-4494-8692-00a3a6c7543d",
       "rows": [
        [
         "0",
         "ai-gs-cookbook-100-qanda",
         "ai-gs-exactstrmatch",
         "aigs-endpoint",
         "aigs-dataset-100-qa",
         "exactstrmatch_accuracy",
         "24"
        ],
        [
         "1",
         "ai-gs-cookbook-100-qanda",
         "ai-gs-exactstrmatch",
         "aigs-endpoint",
         "aigs-dataset-100-qa",
         "exactstrmatch_unsuccessful_count",
         "76"
        ],
        [
         "2",
         "ai-gs-cookbook-100-qanda",
         "ai-gs-exactstrmatch",
         "aigs-endpoint",
         "aigs-dataset-100-qa",
         "exactstrmatch_successful_count",
         "24"
        ]
       ],
       "shape": {
        "columns": 6,
        "rows": 3
       }
      },
      "text/html": [
       "<div>\n",
       "<style scoped>\n",
       "    .dataframe tbody tr th:only-of-type {\n",
       "        vertical-align: middle;\n",
       "    }\n",
       "\n",
       "    .dataframe tbody tr th {\n",
       "        vertical-align: top;\n",
       "    }\n",
       "\n",
       "    .dataframe thead th {\n",
       "        text-align: right;\n",
       "    }\n",
       "</style>\n",
       "<table border=\"1\" class=\"dataframe\">\n",
       "  <thead>\n",
       "    <tr style=\"text-align: right;\">\n",
       "      <th></th>\n",
       "      <th>cookbook_id</th>\n",
       "      <th>recipe_id</th>\n",
       "      <th>model_id</th>\n",
       "      <th>dataset_id</th>\n",
       "      <th>metric_name</th>\n",
       "      <th>value</th>\n",
       "    </tr>\n",
       "  </thead>\n",
       "  <tbody>\n",
       "    <tr>\n",
       "      <th>0</th>\n",
       "      <td>ai-gs-cookbook-100-qanda</td>\n",
       "      <td>ai-gs-exactstrmatch</td>\n",
       "      <td>aigs-endpoint</td>\n",
       "      <td>aigs-dataset-100-qa</td>\n",
       "      <td>exactstrmatch_accuracy</td>\n",
       "      <td>24</td>\n",
       "    </tr>\n",
       "    <tr>\n",
       "      <th>1</th>\n",
       "      <td>ai-gs-cookbook-100-qanda</td>\n",
       "      <td>ai-gs-exactstrmatch</td>\n",
       "      <td>aigs-endpoint</td>\n",
       "      <td>aigs-dataset-100-qa</td>\n",
       "      <td>exactstrmatch_unsuccessful_count</td>\n",
       "      <td>76</td>\n",
       "    </tr>\n",
       "    <tr>\n",
       "      <th>2</th>\n",
       "      <td>ai-gs-cookbook-100-qanda</td>\n",
       "      <td>ai-gs-exactstrmatch</td>\n",
       "      <td>aigs-endpoint</td>\n",
       "      <td>aigs-dataset-100-qa</td>\n",
       "      <td>exactstrmatch_successful_count</td>\n",
       "      <td>24</td>\n",
       "    </tr>\n",
       "  </tbody>\n",
       "</table>\n",
       "</div>"
      ],
      "text/plain": [
       "                cookbook_id            recipe_id       model_id  \\\n",
       "0  ai-gs-cookbook-100-qanda  ai-gs-exactstrmatch  aigs-endpoint   \n",
       "1  ai-gs-cookbook-100-qanda  ai-gs-exactstrmatch  aigs-endpoint   \n",
       "2  ai-gs-cookbook-100-qanda  ai-gs-exactstrmatch  aigs-endpoint   \n",
       "\n",
       "            dataset_id                       metric_name  value  \n",
       "0  aigs-dataset-100-qa            exactstrmatch_accuracy     24  \n",
       "1  aigs-dataset-100-qa  exactstrmatch_unsuccessful_count     76  \n",
       "2  aigs-dataset-100-qa    exactstrmatch_successful_count     24  "
      ]
     },
     "execution_count": 46,
     "metadata": {},
     "output_type": "execute_result"
    }
   ],
   "source": [
    "extract_exactstrmatch_metrics(data_100_qa)"
   ]
  },
  {
   "cell_type": "markdown",
   "metadata": {},
   "source": [
    "### Plot ExactStrMatch"
   ]
  },
  {
   "cell_type": "code",
   "execution_count": 47,
   "metadata": {},
   "outputs": [
    {
     "name": "stdout",
     "output_type": "stream",
     "text": [
      "\n",
      "=== Metrics Analysis ===\n",
      "\n",
      "Metrics Summary Statistics:\n",
      "                                  count  mean  std   min   25%   50%   75%  \\\n",
      "metric_name                                                                  \n",
      "exactstrmatch_accuracy              1.0  24.0  NaN  24.0  24.0  24.0  24.0   \n",
      "exactstrmatch_successful_count      1.0  24.0  NaN  24.0  24.0  24.0  24.0   \n",
      "exactstrmatch_unsuccessful_count    1.0  76.0  NaN  76.0  76.0  76.0  76.0   \n",
      "\n",
      "                                   max  \n",
      "metric_name                             \n",
      "exactstrmatch_accuracy            24.0  \n",
      "exactstrmatch_successful_count    24.0  \n",
      "exactstrmatch_unsuccessful_count  76.0  \n"
     ]
    },
    {
     "data": {
      "image/png": "[encoded data removed]",
      "text/plain": [
       "<Figure size 1200x800 with 1 Axes>"
      ]
     },
     "metadata": {},
     "output_type": "display_data"
    }
   ],
   "source": [
    "analyze_metrics(extract_exactstrmatch_metrics(data_100_qa))"
   ]
  },
  {
   "cell_type": "markdown",
   "metadata": {},
   "source": [
    "## BertScore\n",
    "BertScore uses Bert to check for the similarity in embedding between two sentences.\n",
    "*  BERTScore metrics between predicted texts and target texts. BERTScore is another evaluation metric for text generation tasks that uses contextual embeddings from BERT models.\n",
    "* BERTScore leverages contextual embeddings from BERT models to measure semantic similarity\n",
    "\n",
    "BERTScore computes:\n",
    "\n",
    "* Precision: How semantically similar the prediction is to the target\n",
    "* Recall: How much of the target's semantic information is captured in the prediction\n",
    "* F1: The harmonic mean of precision and recall"
   ]
  },
  {
   "cell_type": "code",
   "execution_count": 48,
   "metadata": {},
   "outputs": [
    {
     "data": {
      "application/vnd.microsoft.datawrangler.viewer.v0+json": {
       "columns": [
        {
         "name": "index",
         "rawType": "int64",
         "type": "integer"
        },
        {
         "name": "cookbook_id",
         "rawType": "object",
         "type": "string"
        },
        {
         "name": "recipe_id",
         "rawType": "object",
         "type": "string"
        },
        {
         "name": "model_id",
         "rawType": "object",
         "type": "string"
        },
        {
         "name": "dataset_id",
         "rawType": "object",
         "type": "string"
        },
        {
         "name": "metric_name",
         "rawType": "object",
         "type": "string"
        },
        {
         "name": "value",
         "rawType": "float64",
         "type": "float"
        }
       ],
       "conversionMethod": "pd.DataFrame",
       "ref": "3d22abf4-9d21-4c93-ae59-c62797e14484",
       "rows": [
        [
         "0",
         "ai-gs-cookbook-100-qanda",
         "ai-gs-bertscore",
         "aigs-endpoint",
         "aigs-dataset-100-qa",
         "bertscore_precision",
         "0.7272491455078125"
        ],
        [
         "1",
         "ai-gs-cookbook-100-qanda",
         "ai-gs-bertscore",
         "aigs-endpoint",
         "aigs-dataset-100-qa",
         "bertscore_recall",
         "0.7559623718261719"
        ],
        [
         "2",
         "ai-gs-cookbook-100-qanda",
         "ai-gs-bertscore",
         "aigs-endpoint",
         "aigs-dataset-100-qa",
         "bertscore_f1",
         "0.7404866218566895"
        ]
       ],
       "shape": {
        "columns": 6,
        "rows": 3
       }
      },
      "text/html": [
       "<div>\n",
       "<style scoped>\n",
       "    .dataframe tbody tr th:only-of-type {\n",
       "        vertical-align: middle;\n",
       "    }\n",
       "\n",
       "    .dataframe tbody tr th {\n",
       "        vertical-align: top;\n",
       "    }\n",
       "\n",
       "    .dataframe thead th {\n",
       "        text-align: right;\n",
       "    }\n",
       "</style>\n",
       "<table border=\"1\" class=\"dataframe\">\n",
       "  <thead>\n",
       "    <tr style=\"text-align: right;\">\n",
       "      <th></th>\n",
       "      <th>cookbook_id</th>\n",
       "      <th>recipe_id</th>\n",
       "      <th>model_id</th>\n",
       "      <th>dataset_id</th>\n",
       "      <th>metric_name</th>\n",
       "      <th>value</th>\n",
       "    </tr>\n",
       "  </thead>\n",
       "  <tbody>\n",
       "    <tr>\n",
       "      <th>0</th>\n",
       "      <td>ai-gs-cookbook-100-qanda</td>\n",
       "      <td>ai-gs-bertscore</td>\n",
       "      <td>aigs-endpoint</td>\n",
       "      <td>aigs-dataset-100-qa</td>\n",
       "      <td>bertscore_precision</td>\n",
       "      <td>0.727249</td>\n",
       "    </tr>\n",
       "    <tr>\n",
       "      <th>1</th>\n",
       "      <td>ai-gs-cookbook-100-qanda</td>\n",
       "      <td>ai-gs-bertscore</td>\n",
       "      <td>aigs-endpoint</td>\n",
       "      <td>aigs-dataset-100-qa</td>\n",
       "      <td>bertscore_recall</td>\n",
       "      <td>0.755962</td>\n",
       "    </tr>\n",
       "    <tr>\n",
       "      <th>2</th>\n",
       "      <td>ai-gs-cookbook-100-qanda</td>\n",
       "      <td>ai-gs-bertscore</td>\n",
       "      <td>aigs-endpoint</td>\n",
       "      <td>aigs-dataset-100-qa</td>\n",
       "      <td>bertscore_f1</td>\n",
       "      <td>0.740487</td>\n",
       "    </tr>\n",
       "  </tbody>\n",
       "</table>\n",
       "</div>"
      ],
      "text/plain": [
       "                cookbook_id        recipe_id       model_id  \\\n",
       "0  ai-gs-cookbook-100-qanda  ai-gs-bertscore  aigs-endpoint   \n",
       "1  ai-gs-cookbook-100-qanda  ai-gs-bertscore  aigs-endpoint   \n",
       "2  ai-gs-cookbook-100-qanda  ai-gs-bertscore  aigs-endpoint   \n",
       "\n",
       "            dataset_id          metric_name     value  \n",
       "0  aigs-dataset-100-qa  bertscore_precision  0.727249  \n",
       "1  aigs-dataset-100-qa     bertscore_recall  0.755962  \n",
       "2  aigs-dataset-100-qa         bertscore_f1  0.740487  "
      ]
     },
     "execution_count": 48,
     "metadata": {},
     "output_type": "execute_result"
    }
   ],
   "source": [
    "extract_bertscore_metrics(data_100_qa)"
   ]
  },
  {
   "cell_type": "markdown",
   "metadata": {},
   "source": [
    "### Plot BertScore"
   ]
  },
  {
   "cell_type": "code",
   "execution_count": 49,
   "metadata": {},
   "outputs": [
    {
     "name": "stdout",
     "output_type": "stream",
     "text": [
      "\n",
      "=== Metrics Analysis ===\n",
      "\n",
      "Metrics Summary Statistics:\n",
      "                     count      mean  std       min       25%       50%  \\\n",
      "metric_name                                                               \n",
      "bertscore_f1           1.0  0.740487  NaN  0.740487  0.740487  0.740487   \n",
      "bertscore_precision    1.0  0.727249  NaN  0.727249  0.727249  0.727249   \n",
      "bertscore_recall       1.0  0.755962  NaN  0.755962  0.755962  0.755962   \n",
      "\n",
      "                          75%       max  \n",
      "metric_name                              \n",
      "bertscore_f1         0.740487  0.740487  \n",
      "bertscore_precision  0.727249  0.727249  \n",
      "bertscore_recall     0.755962  0.755962  \n"
     ]
    },
    {
     "data": {
      "image/png": "[encoded data removed]",
      "text/plain": [
       "<Figure size 1200x800 with 1 Axes>"
      ]
     },
     "metadata": {},
     "output_type": "display_data"
    },
    {
     "data": {
      "text/plain": [
       "<Figure size 1000x600 with 0 Axes>"
      ]
     },
     "metadata": {},
     "output_type": "display_data"
    },
    {
     "data": {
      "image/png": "[encoded data removed]",
      "text/plain": [
       "<Figure size 1000x600 with 1 Axes>"
      ]
     },
     "metadata": {},
     "output_type": "display_data"
    }
   ],
   "source": [
    "analyze_metrics(extract_bertscore_metrics(data_100_qa))"
   ]
  },
  {
   "cell_type": "markdown",
   "metadata": {},
   "source": [
    "## Rouge Scorer\n",
    "RougeScorer - ROUGE (Recall-Oriented Understudy for Gisting Evaluation) scores, these \n",
    "are metrics used to evaluate the quality of text summaries by comparing them against reference texts.\n",
    "The ROUGE metrics being calculated are:\n",
    "\n",
    "* ROUGE-1: Compares individual words (unigrams)\n",
    "* ROUGE-2: Compares word pairs (bigrams)\n",
    "* ROUGE-L: Uses longest common subsequence, focusing on sentence structure\n",
    "\n",
    "For each metric, the method calculates:\n",
    "\n",
    "* Recall: How much of the target text is captured in the prediction\n",
    "* Precision: How much of the prediction is relevant to the target\n",
    "* F-measure: The harmonic mean of precision and recall"
   ]
  },
  {
   "cell_type": "code",
   "execution_count": 50,
   "metadata": {},
   "outputs": [
    {
     "data": {
      "application/vnd.microsoft.datawrangler.viewer.v0+json": {
       "columns": [
        {
         "name": "index",
         "rawType": "int64",
         "type": "integer"
        },
        {
         "name": "cookbook_id",
         "rawType": "object",
         "type": "string"
        },
        {
         "name": "recipe_id",
         "rawType": "object",
         "type": "string"
        },
        {
         "name": "model_id",
         "rawType": "object",
         "type": "string"
        },
        {
         "name": "dataset_id",
         "rawType": "object",
         "type": "string"
        },
        {
         "name": "metric_name",
         "rawType": "object",
         "type": "string"
        },
        {
         "name": "value",
         "rawType": "float64",
         "type": "float"
        }
       ],
       "conversionMethod": "pd.DataFrame",
       "ref": "1489cc6c-939a-47b7-9a78-d11b47791881",
       "rows": [
        [
         "0",
         "ai-gs-cookbook-100-qanda",
         "ai-gs-rougescorer",
         "aigs-endpoint",
         "aigs-dataset-100-qa",
         "rouge1_recall",
         "0.8283605157911008"
        ],
        [
         "1",
         "ai-gs-cookbook-100-qanda",
         "ai-gs-rougescorer",
         "aigs-endpoint",
         "aigs-dataset-100-qa",
         "rouge1_precision",
         "0.7983589866893018"
        ],
        [
         "2",
         "ai-gs-cookbook-100-qanda",
         "ai-gs-rougescorer",
         "aigs-endpoint",
         "aigs-dataset-100-qa",
         "rouge1_fmeasure",
         "0.8000288674701777"
        ],
        [
         "3",
         "ai-gs-cookbook-100-qanda",
         "ai-gs-rougescorer",
         "aigs-endpoint",
         "aigs-dataset-100-qa",
         "rouge2_recall",
         "0.7338847229406398"
        ],
        [
         "4",
         "ai-gs-cookbook-100-qanda",
         "ai-gs-rougescorer",
         "aigs-endpoint",
         "aigs-dataset-100-qa",
         "rouge2_precision",
         "0.7123475918423181"
        ],
        [
         "5",
         "ai-gs-cookbook-100-qanda",
         "ai-gs-rougescorer",
         "aigs-endpoint",
         "aigs-dataset-100-qa",
         "rouge2_fmeasure",
         "0.7132378917597822"
        ],
        [
         "6",
         "ai-gs-cookbook-100-qanda",
         "ai-gs-rougescorer",
         "aigs-endpoint",
         "aigs-dataset-100-qa",
         "rougeL_recall",
         "0.8080399852974155"
        ],
        [
         "7",
         "ai-gs-cookbook-100-qanda",
         "ai-gs-rougescorer",
         "aigs-endpoint",
         "aigs-dataset-100-qa",
         "rougeL_precision",
         "0.7785786480228621"
        ],
        [
         "8",
         "ai-gs-cookbook-100-qanda",
         "ai-gs-rougescorer",
         "aigs-endpoint",
         "aigs-dataset-100-qa",
         "rougeL_fmeasure",
         "0.7806636207844692"
        ]
       ],
       "shape": {
        "columns": 6,
        "rows": 9
       }
      },
      "text/html": [
       "<div>\n",
       "<style scoped>\n",
       "    .dataframe tbody tr th:only-of-type {\n",
       "        vertical-align: middle;\n",
       "    }\n",
       "\n",
       "    .dataframe tbody tr th {\n",
       "        vertical-align: top;\n",
       "    }\n",
       "\n",
       "    .dataframe thead th {\n",
       "        text-align: right;\n",
       "    }\n",
       "</style>\n",
       "<table border=\"1\" class=\"dataframe\">\n",
       "  <thead>\n",
       "    <tr style=\"text-align: right;\">\n",
       "      <th></th>\n",
       "      <th>cookbook_id</th>\n",
       "      <th>recipe_id</th>\n",
       "      <th>model_id</th>\n",
       "      <th>dataset_id</th>\n",
       "      <th>metric_name</th>\n",
       "      <th>value</th>\n",
       "    </tr>\n",
       "  </thead>\n",
       "  <tbody>\n",
       "    <tr>\n",
       "      <th>0</th>\n",
       "      <td>ai-gs-cookbook-100-qanda</td>\n",
       "      <td>ai-gs-rougescorer</td>\n",
       "      <td>aigs-endpoint</td>\n",
       "      <td>aigs-dataset-100-qa</td>\n",
       "      <td>rouge1_recall</td>\n",
       "      <td>0.828361</td>\n",
       "    </tr>\n",
       "    <tr>\n",
       "      <th>1</th>\n",
       "      <td>ai-gs-cookbook-100-qanda</td>\n",
       "      <td>ai-gs-rougescorer</td>\n",
       "      <td>aigs-endpoint</td>\n",
       "      <td>aigs-dataset-100-qa</td>\n",
       "      <td>rouge1_precision</td>\n",
       "      <td>0.798359</td>\n",
       "    </tr>\n",
       "    <tr>\n",
       "      <th>2</th>\n",
       "      <td>ai-gs-cookbook-100-qanda</td>\n",
       "      <td>ai-gs-rougescorer</td>\n",
       "      <td>aigs-endpoint</td>\n",
       "      <td>aigs-dataset-100-qa</td>\n",
       "      <td>rouge1_fmeasure</td>\n",
       "      <td>0.800029</td>\n",
       "    </tr>\n",
       "    <tr>\n",
       "      <th>3</th>\n",
       "      <td>ai-gs-cookbook-100-qanda</td>\n",
       "      <td>ai-gs-rougescorer</td>\n",
       "      <td>aigs-endpoint</td>\n",
       "      <td>aigs-dataset-100-qa</td>\n",
       "      <td>rouge2_recall</td>\n",
       "      <td>0.733885</td>\n",
       "    </tr>\n",
       "    <tr>\n",
       "      <th>4</th>\n",
       "      <td>ai-gs-cookbook-100-qanda</td>\n",
       "      <td>ai-gs-rougescorer</td>\n",
       "      <td>aigs-endpoint</td>\n",
       "      <td>aigs-dataset-100-qa</td>\n",
       "      <td>rouge2_precision</td>\n",
       "      <td>0.712348</td>\n",
       "    </tr>\n",
       "    <tr>\n",
       "      <th>5</th>\n",
       "      <td>ai-gs-cookbook-100-qanda</td>\n",
       "      <td>ai-gs-rougescorer</td>\n",
       "      <td>aigs-endpoint</td>\n",
       "      <td>aigs-dataset-100-qa</td>\n",
       "      <td>rouge2_fmeasure</td>\n",
       "      <td>0.713238</td>\n",
       "    </tr>\n",
       "    <tr>\n",
       "      <th>6</th>\n",
       "      <td>ai-gs-cookbook-100-qanda</td>\n",
       "      <td>ai-gs-rougescorer</td>\n",
       "      <td>aigs-endpoint</td>\n",
       "      <td>aigs-dataset-100-qa</td>\n",
       "      <td>rougeL_recall</td>\n",
       "      <td>0.808040</td>\n",
       "    </tr>\n",
       "    <tr>\n",
       "      <th>7</th>\n",
       "      <td>ai-gs-cookbook-100-qanda</td>\n",
       "      <td>ai-gs-rougescorer</td>\n",
       "      <td>aigs-endpoint</td>\n",
       "      <td>aigs-dataset-100-qa</td>\n",
       "      <td>rougeL_precision</td>\n",
       "      <td>0.778579</td>\n",
       "    </tr>\n",
       "    <tr>\n",
       "      <th>8</th>\n",
       "      <td>ai-gs-cookbook-100-qanda</td>\n",
       "      <td>ai-gs-rougescorer</td>\n",
       "      <td>aigs-endpoint</td>\n",
       "      <td>aigs-dataset-100-qa</td>\n",
       "      <td>rougeL_fmeasure</td>\n",
       "      <td>0.780664</td>\n",
       "    </tr>\n",
       "  </tbody>\n",
       "</table>\n",
       "</div>"
      ],
      "text/plain": [
       "                cookbook_id          recipe_id       model_id  \\\n",
       "0  ai-gs-cookbook-100-qanda  ai-gs-rougescorer  aigs-endpoint   \n",
       "1  ai-gs-cookbook-100-qanda  ai-gs-rougescorer  aigs-endpoint   \n",
       "2  ai-gs-cookbook-100-qanda  ai-gs-rougescorer  aigs-endpoint   \n",
       "3  ai-gs-cookbook-100-qanda  ai-gs-rougescorer  aigs-endpoint   \n",
       "4  ai-gs-cookbook-100-qanda  ai-gs-rougescorer  aigs-endpoint   \n",
       "5  ai-gs-cookbook-100-qanda  ai-gs-rougescorer  aigs-endpoint   \n",
       "6  ai-gs-cookbook-100-qanda  ai-gs-rougescorer  aigs-endpoint   \n",
       "7  ai-gs-cookbook-100-qanda  ai-gs-rougescorer  aigs-endpoint   \n",
       "8  ai-gs-cookbook-100-qanda  ai-gs-rougescorer  aigs-endpoint   \n",
       "\n",
       "            dataset_id       metric_name     value  \n",
       "0  aigs-dataset-100-qa     rouge1_recall  0.828361  \n",
       "1  aigs-dataset-100-qa  rouge1_precision  0.798359  \n",
       "2  aigs-dataset-100-qa   rouge1_fmeasure  0.800029  \n",
       "3  aigs-dataset-100-qa     rouge2_recall  0.733885  \n",
       "4  aigs-dataset-100-qa  rouge2_precision  0.712348  \n",
       "5  aigs-dataset-100-qa   rouge2_fmeasure  0.713238  \n",
       "6  aigs-dataset-100-qa     rougeL_recall  0.808040  \n",
       "7  aigs-dataset-100-qa  rougeL_precision  0.778579  \n",
       "8  aigs-dataset-100-qa   rougeL_fmeasure  0.780664  "
      ]
     },
     "execution_count": 50,
     "metadata": {},
     "output_type": "execute_result"
    }
   ],
   "source": [
    "extract_rougescorer_metrics(data_100_qa)"
   ]
  },
  {
   "cell_type": "markdown",
   "metadata": {},
   "source": [
    "### Plot Rouge Scorer"
   ]
  },
  {
   "cell_type": "code",
   "execution_count": 51,
   "metadata": {},
   "outputs": [
    {
     "name": "stdout",
     "output_type": "stream",
     "text": [
      "\n",
      "=== Metrics Analysis ===\n",
      "\n",
      "Metrics Summary Statistics:\n",
      "                  count      mean  std       min       25%       50%  \\\n",
      "metric_name                                                            \n",
      "rouge1_fmeasure     1.0  0.800029  NaN  0.800029  0.800029  0.800029   \n",
      "rouge1_precision    1.0  0.798359  NaN  0.798359  0.798359  0.798359   \n",
      "rouge1_recall       1.0  0.828361  NaN  0.828361  0.828361  0.828361   \n",
      "rouge2_fmeasure     1.0  0.713238  NaN  0.713238  0.713238  0.713238   \n",
      "rouge2_precision    1.0  0.712348  NaN  0.712348  0.712348  0.712348   \n",
      "rouge2_recall       1.0  0.733885  NaN  0.733885  0.733885  0.733885   \n",
      "rougeL_fmeasure     1.0  0.780664  NaN  0.780664  0.780664  0.780664   \n",
      "rougeL_precision    1.0  0.778579  NaN  0.778579  0.778579  0.778579   \n",
      "rougeL_recall       1.0  0.808040  NaN  0.808040  0.808040  0.808040   \n",
      "\n",
      "                       75%       max  \n",
      "metric_name                           \n",
      "rouge1_fmeasure   0.800029  0.800029  \n",
      "rouge1_precision  0.798359  0.798359  \n",
      "rouge1_recall     0.828361  0.828361  \n",
      "rouge2_fmeasure   0.713238  0.713238  \n",
      "rouge2_precision  0.712348  0.712348  \n",
      "rouge2_recall     0.733885  0.733885  \n",
      "rougeL_fmeasure   0.780664  0.780664  \n",
      "rougeL_precision  0.778579  0.778579  \n",
      "rougeL_recall     0.808040  0.808040  \n"
     ]
    },
    {
     "data": {
      "image/png": "[encoded data removed]",
      "text/plain": [
       "<Figure size 1200x800 with 1 Axes>"
      ]
     },
     "metadata": {},
     "output_type": "display_data"
    }
   ],
   "source": [
    "analyze_metrics(extract_rougescorer_metrics(data_100_qa))"
   ]
  },
  {
   "cell_type": "markdown",
   "metadata": {},
   "source": [
    "## Answer Carefully\n",
    "Calculates the number of undesired, no undesired and unknown response by using GPT4o."
   ]
  },
  {
   "cell_type": "code",
   "execution_count": 52,
   "metadata": {},
   "outputs": [
    {
     "data": {
      "application/vnd.microsoft.datawrangler.viewer.v0+json": {
       "columns": [
        {
         "name": "index",
         "rawType": "int64",
         "type": "integer"
        },
        {
         "name": "cookbook_id",
         "rawType": "object",
         "type": "string"
        },
        {
         "name": "recipe_id",
         "rawType": "object",
         "type": "string"
        },
        {
         "name": "model_id",
         "rawType": "object",
         "type": "string"
        },
        {
         "name": "dataset_id",
         "rawType": "object",
         "type": "string"
        },
        {
         "name": "metric_name",
         "rawType": "object",
         "type": "string"
        },
        {
         "name": "value",
         "rawType": "int64",
         "type": "integer"
        }
       ],
       "conversionMethod": "pd.DataFrame",
       "ref": "c0025621-e690-4f31-b124-0ec4e1ff03cc",
       "rows": [
        [
         "0",
         "ai-gs-cookbook-100-qanda",
         "ai-gs-answercarefully-annotator",
         "aigs-endpoint",
         "aigs-dataset-100-qa",
         "answercarefully_noundesired_rate",
         "33"
        ],
        [
         "1",
         "ai-gs-cookbook-100-qanda",
         "ai-gs-answercarefully-annotator",
         "aigs-endpoint",
         "aigs-dataset-100-qa",
         "answercarefully_refused_rate",
         "0"
        ],
        [
         "2",
         "ai-gs-cookbook-100-qanda",
         "ai-gs-answercarefully-annotator",
         "aigs-endpoint",
         "aigs-dataset-100-qa",
         "answercarefully_undesired",
         "67"
        ],
        [
         "3",
         "ai-gs-cookbook-100-qanda",
         "ai-gs-answercarefully-annotator",
         "aigs-endpoint",
         "aigs-dataset-100-qa",
         "answercarefully_noundesired",
         "33"
        ],
        [
         "4",
         "ai-gs-cookbook-100-qanda",
         "ai-gs-answercarefully-annotator",
         "aigs-endpoint",
         "aigs-dataset-100-qa",
         "answercarefully_refused",
         "0"
        ],
        [
         "5",
         "ai-gs-cookbook-100-qanda",
         "ai-gs-answercarefully-annotator",
         "aigs-endpoint",
         "aigs-dataset-100-qa",
         "answercarefully_nonrefused",
         "100"
        ],
        [
         "6",
         "ai-gs-cookbook-100-qanda",
         "ai-gs-answercarefully-annotator",
         "aigs-endpoint",
         "aigs-dataset-100-qa",
         "answercarefully_unknown",
         "0"
        ],
        [
         "7",
         "ai-gs-cookbook-100-qanda",
         "ai-gs-answercarefully-annotator",
         "aigs-endpoint",
         "aigs-dataset-100-qa",
         "answercarefully_undesired_prompts_count",
         "67"
        ],
        [
         "8",
         "ai-gs-cookbook-100-qanda",
         "ai-gs-answercarefully-annotator",
         "aigs-endpoint",
         "aigs-dataset-100-qa",
         "answercarefully_noundesired_prompts_count",
         "33"
        ],
        [
         "9",
         "ai-gs-cookbook-100-qanda",
         "ai-gs-answercarefully-annotator",
         "aigs-endpoint",
         "aigs-dataset-100-qa",
         "answercarefully_non_refused_prompts_count",
         "100"
        ],
        [
         "10",
         "ai-gs-cookbook-100-qanda",
         "ai-gs-answercarefully-annotator",
         "aigs-endpoint",
         "aigs-dataset-100-qa",
         "answercarefully_refused_prompts_count",
         "0"
        ],
        [
         "11",
         "ai-gs-cookbook-100-qanda",
         "ai-gs-answercarefully-annotator",
         "aigs-endpoint",
         "aigs-dataset-100-qa",
         "answercarefully_unknown_prompts_count",
         "0"
        ]
       ],
       "shape": {
        "columns": 6,
        "rows": 12
       }
      },
      "text/html": [
       "<div>\n",
       "<style scoped>\n",
       "    .dataframe tbody tr th:only-of-type {\n",
       "        vertical-align: middle;\n",
       "    }\n",
       "\n",
       "    .dataframe tbody tr th {\n",
       "        vertical-align: top;\n",
       "    }\n",
       "\n",
       "    .dataframe thead th {\n",
       "        text-align: right;\n",
       "    }\n",
       "</style>\n",
       "<table border=\"1\" class=\"dataframe\">\n",
       "  <thead>\n",
       "    <tr style=\"text-align: right;\">\n",
       "      <th></th>\n",
       "      <th>cookbook_id</th>\n",
       "      <th>recipe_id</th>\n",
       "      <th>model_id</th>\n",
       "      <th>dataset_id</th>\n",
       "      <th>metric_name</th>\n",
       "      <th>value</th>\n",
       "    </tr>\n",
       "  </thead>\n",
       "  <tbody>\n",
       "    <tr>\n",
       "      <th>0</th>\n",
       "      <td>ai-gs-cookbook-100-qanda</td>\n",
       "      <td>ai-gs-answercarefully-annotator</td>\n",
       "      <td>aigs-endpoint</td>\n",
       "      <td>aigs-dataset-100-qa</td>\n",
       "      <td>answercarefully_noundesired_rate</td>\n",
       "      <td>33</td>\n",
       "    </tr>\n",
       "    <tr>\n",
       "      <th>1</th>\n",
       "      <td>ai-gs-cookbook-100-qanda</td>\n",
       "      <td>ai-gs-answercarefully-annotator</td>\n",
       "      <td>aigs-endpoint</td>\n",
       "      <td>aigs-dataset-100-qa</td>\n",
       "      <td>answercarefully_refused_rate</td>\n",
       "      <td>0</td>\n",
       "    </tr>\n",
       "    <tr>\n",
       "      <th>2</th>\n",
       "      <td>ai-gs-cookbook-100-qanda</td>\n",
       "      <td>ai-gs-answercarefully-annotator</td>\n",
       "      <td>aigs-endpoint</td>\n",
       "      <td>aigs-dataset-100-qa</td>\n",
       "      <td>answercarefully_undesired</td>\n",
       "      <td>67</td>\n",
       "    </tr>\n",
       "    <tr>\n",
       "      <th>3</th>\n",
       "      <td>ai-gs-cookbook-100-qanda</td>\n",
       "      <td>ai-gs-answercarefully-annotator</td>\n",
       "      <td>aigs-endpoint</td>\n",
       "      <td>aigs-dataset-100-qa</td>\n",
       "      <td>answercarefully_noundesired</td>\n",
       "      <td>33</td>\n",
       "    </tr>\n",
       "    <tr>\n",
       "      <th>4</th>\n",
       "      <td>ai-gs-cookbook-100-qanda</td>\n",
       "      <td>ai-gs-answercarefully-annotator</td>\n",
       "      <td>aigs-endpoint</td>\n",
       "      <td>aigs-dataset-100-qa</td>\n",
       "      <td>answercarefully_refused</td>\n",
       "      <td>0</td>\n",
       "    </tr>\n",
       "    <tr>\n",
       "      <th>5</th>\n",
       "      <td>ai-gs-cookbook-100-qanda</td>\n",
       "      <td>ai-gs-answercarefully-annotator</td>\n",
       "      <td>aigs-endpoint</td>\n",
       "      <td>aigs-dataset-100-qa</td>\n",
       "      <td>answercarefully_nonrefused</td>\n",
       "      <td>100</td>\n",
       "    </tr>\n",
       "    <tr>\n",
       "      <th>6</th>\n",
       "      <td>ai-gs-cookbook-100-qanda</td>\n",
       "      <td>ai-gs-answercarefully-annotator</td>\n",
       "      <td>aigs-endpoint</td>\n",
       "      <td>aigs-dataset-100-qa</td>\n",
       "      <td>answercarefully_unknown</td>\n",
       "      <td>0</td>\n",
       "    </tr>\n",
       "    <tr>\n",
       "      <th>7</th>\n",
       "      <td>ai-gs-cookbook-100-qanda</td>\n",
       "      <td>ai-gs-answercarefully-annotator</td>\n",
       "      <td>aigs-endpoint</td>\n",
       "      <td>aigs-dataset-100-qa</td>\n",
       "      <td>answercarefully_undesired_prompts_count</td>\n",
       "      <td>67</td>\n",
       "    </tr>\n",
       "    <tr>\n",
       "      <th>8</th>\n",
       "      <td>ai-gs-cookbook-100-qanda</td>\n",
       "      <td>ai-gs-answercarefully-annotator</td>\n",
       "      <td>aigs-endpoint</td>\n",
       "      <td>aigs-dataset-100-qa</td>\n",
       "      <td>answercarefully_noundesired_prompts_count</td>\n",
       "      <td>33</td>\n",
       "    </tr>\n",
       "    <tr>\n",
       "      <th>9</th>\n",
       "      <td>ai-gs-cookbook-100-qanda</td>\n",
       "      <td>ai-gs-answercarefully-annotator</td>\n",
       "      <td>aigs-endpoint</td>\n",
       "      <td>aigs-dataset-100-qa</td>\n",
       "      <td>answercarefully_non_refused_prompts_count</td>\n",
       "      <td>100</td>\n",
       "    </tr>\n",
       "    <tr>\n",
       "      <th>10</th>\n",
       "      <td>ai-gs-cookbook-100-qanda</td>\n",
       "      <td>ai-gs-answercarefully-annotator</td>\n",
       "      <td>aigs-endpoint</td>\n",
       "      <td>aigs-dataset-100-qa</td>\n",
       "      <td>answercarefully_refused_prompts_count</td>\n",
       "      <td>0</td>\n",
       "    </tr>\n",
       "    <tr>\n",
       "      <th>11</th>\n",
       "      <td>ai-gs-cookbook-100-qanda</td>\n",
       "      <td>ai-gs-answercarefully-annotator</td>\n",
       "      <td>aigs-endpoint</td>\n",
       "      <td>aigs-dataset-100-qa</td>\n",
       "      <td>answercarefully_unknown_prompts_count</td>\n",
       "      <td>0</td>\n",
       "    </tr>\n",
       "  </tbody>\n",
       "</table>\n",
       "</div>"
      ],
      "text/plain": [
       "                 cookbook_id                        recipe_id       model_id  \\\n",
       "0   ai-gs-cookbook-100-qanda  ai-gs-answercarefully-annotator  aigs-endpoint   \n",
       "1   ai-gs-cookbook-100-qanda  ai-gs-answercarefully-annotator  aigs-endpoint   \n",
       "2   ai-gs-cookbook-100-qanda  ai-gs-answercarefully-annotator  aigs-endpoint   \n",
       "3   ai-gs-cookbook-100-qanda  ai-gs-answercarefully-annotator  aigs-endpoint   \n",
       "4   ai-gs-cookbook-100-qanda  ai-gs-answercarefully-annotator  aigs-endpoint   \n",
       "5   ai-gs-cookbook-100-qanda  ai-gs-answercarefully-annotator  aigs-endpoint   \n",
       "6   ai-gs-cookbook-100-qanda  ai-gs-answercarefully-annotator  aigs-endpoint   \n",
       "7   ai-gs-cookbook-100-qanda  ai-gs-answercarefully-annotator  aigs-endpoint   \n",
       "8   ai-gs-cookbook-100-qanda  ai-gs-answercarefully-annotator  aigs-endpoint   \n",
       "9   ai-gs-cookbook-100-qanda  ai-gs-answercarefully-annotator  aigs-endpoint   \n",
       "10  ai-gs-cookbook-100-qanda  ai-gs-answercarefully-annotator  aigs-endpoint   \n",
       "11  ai-gs-cookbook-100-qanda  ai-gs-answercarefully-annotator  aigs-endpoint   \n",
       "\n",
       "             dataset_id                                metric_name  value  \n",
       "0   aigs-dataset-100-qa           answercarefully_noundesired_rate     33  \n",
       "1   aigs-dataset-100-qa               answercarefully_refused_rate      0  \n",
       "2   aigs-dataset-100-qa                  answercarefully_undesired     67  \n",
       "3   aigs-dataset-100-qa                answercarefully_noundesired     33  \n",
       "4   aigs-dataset-100-qa                    answercarefully_refused      0  \n",
       "5   aigs-dataset-100-qa                 answercarefully_nonrefused    100  \n",
       "6   aigs-dataset-100-qa                    answercarefully_unknown      0  \n",
       "7   aigs-dataset-100-qa    answercarefully_undesired_prompts_count     67  \n",
       "8   aigs-dataset-100-qa  answercarefully_noundesired_prompts_count     33  \n",
       "9   aigs-dataset-100-qa  answercarefully_non_refused_prompts_count    100  \n",
       "10  aigs-dataset-100-qa      answercarefully_refused_prompts_count      0  \n",
       "11  aigs-dataset-100-qa      answercarefully_unknown_prompts_count      0  "
      ]
     },
     "execution_count": 52,
     "metadata": {},
     "output_type": "execute_result"
    }
   ],
   "source": [
    "extract_answercarefully_metrics(data_100_qa)"
   ]
  },
  {
   "cell_type": "markdown",
   "metadata": {},
   "source": [
    "### Plot Answer Carefully"
   ]
  },
  {
   "cell_type": "code",
   "execution_count": 53,
   "metadata": {},
   "outputs": [
    {
     "name": "stdout",
     "output_type": "stream",
     "text": [
      "\n",
      "=== Metrics Analysis ===\n",
      "\n",
      "Metrics Summary Statistics:\n",
      "                                           count   mean  std    min    25%  \\\n",
      "metric_name                                                                  \n",
      "answercarefully_non_refused_prompts_count    1.0  100.0  NaN  100.0  100.0   \n",
      "answercarefully_nonrefused                   1.0  100.0  NaN  100.0  100.0   \n",
      "answercarefully_noundesired                  1.0   33.0  NaN   33.0   33.0   \n",
      "answercarefully_noundesired_prompts_count    1.0   33.0  NaN   33.0   33.0   \n",
      "answercarefully_noundesired_rate             1.0   33.0  NaN   33.0   33.0   \n",
      "answercarefully_refused                      1.0    0.0  NaN    0.0    0.0   \n",
      "answercarefully_refused_prompts_count        1.0    0.0  NaN    0.0    0.0   \n",
      "answercarefully_refused_rate                 1.0    0.0  NaN    0.0    0.0   \n",
      "answercarefully_undesired                    1.0   67.0  NaN   67.0   67.0   \n",
      "answercarefully_undesired_prompts_count      1.0   67.0  NaN   67.0   67.0   \n",
      "answercarefully_unknown                      1.0    0.0  NaN    0.0    0.0   \n",
      "answercarefully_unknown_prompts_count        1.0    0.0  NaN    0.0    0.0   \n",
      "\n",
      "                                             50%    75%    max  \n",
      "metric_name                                                     \n",
      "answercarefully_non_refused_prompts_count  100.0  100.0  100.0  \n",
      "answercarefully_nonrefused                 100.0  100.0  100.0  \n",
      "answercarefully_noundesired                 33.0   33.0   33.0  \n",
      "answercarefully_noundesired_prompts_count   33.0   33.0   33.0  \n",
      "answercarefully_noundesired_rate            33.0   33.0   33.0  \n",
      "answercarefully_refused                      0.0    0.0    0.0  \n",
      "answercarefully_refused_prompts_count        0.0    0.0    0.0  \n",
      "answercarefully_refused_rate                 0.0    0.0    0.0  \n",
      "answercarefully_undesired                   67.0   67.0   67.0  \n",
      "answercarefully_undesired_prompts_count     67.0   67.0   67.0  \n",
      "answercarefully_unknown                      0.0    0.0    0.0  \n",
      "answercarefully_unknown_prompts_count        0.0    0.0    0.0  \n"
     ]
    },
    {
     "data": {
      "image/png": "[encoded data removed]",
      "text/plain": [
       "<Figure size 1200x800 with 1 Axes>"
      ]
     },
     "metadata": {},
     "output_type": "display_data"
    }
   ],
   "source": [
    "analyze_metrics(extract_answercarefully_metrics(data_100_qa))"
   ]
  },
  {
   "cell_type": "markdown",
   "metadata": {},
   "source": [
    "## Toxicity Classifier\n",
    "This classifier measures how toxic a given input is and calculate the number of toxic sentence detected."
   ]
  },
  {
   "cell_type": "code",
   "execution_count": 54,
   "metadata": {},
   "outputs": [
    {
     "data": {
      "application/vnd.microsoft.datawrangler.viewer.v0+json": {
       "columns": [
        {
         "name": "index",
         "rawType": "int64",
         "type": "integer"
        },
        {
         "name": "cookbook_id",
         "rawType": "object",
         "type": "string"
        },
        {
         "name": "recipe_id",
         "rawType": "object",
         "type": "string"
        },
        {
         "name": "model_id",
         "rawType": "object",
         "type": "string"
        },
        {
         "name": "dataset_id",
         "rawType": "object",
         "type": "string"
        },
        {
         "name": "metric_name",
         "rawType": "object",
         "type": "string"
        },
        {
         "name": "value",
         "rawType": "int64",
         "type": "integer"
        }
       ],
       "conversionMethod": "pd.DataFrame",
       "ref": "8260d74f-f58f-49b0-9e1e-2e7b62e40d09",
       "rows": [
        [
         "0",
         "ai-gs-cookbook-100-qanda",
         "ai-gs-toxicity-classifier",
         "aigs-endpoint",
         "aigs-dataset-100-qa",
         "toxicityClassifier_toxicity_rate",
         "0"
        ]
       ],
       "shape": {
        "columns": 6,
        "rows": 1
       }
      },
      "text/html": [
       "<div>\n",
       "<style scoped>\n",
       "    .dataframe tbody tr th:only-of-type {\n",
       "        vertical-align: middle;\n",
       "    }\n",
       "\n",
       "    .dataframe tbody tr th {\n",
       "        vertical-align: top;\n",
       "    }\n",
       "\n",
       "    .dataframe thead th {\n",
       "        text-align: right;\n",
       "    }\n",
       "</style>\n",
       "<table border=\"1\" class=\"dataframe\">\n",
       "  <thead>\n",
       "    <tr style=\"text-align: right;\">\n",
       "      <th></th>\n",
       "      <th>cookbook_id</th>\n",
       "      <th>recipe_id</th>\n",
       "      <th>model_id</th>\n",
       "      <th>dataset_id</th>\n",
       "      <th>metric_name</th>\n",
       "      <th>value</th>\n",
       "    </tr>\n",
       "  </thead>\n",
       "  <tbody>\n",
       "    <tr>\n",
       "      <th>0</th>\n",
       "      <td>ai-gs-cookbook-100-qanda</td>\n",
       "      <td>ai-gs-toxicity-classifier</td>\n",
       "      <td>aigs-endpoint</td>\n",
       "      <td>aigs-dataset-100-qa</td>\n",
       "      <td>toxicityClassifier_toxicity_rate</td>\n",
       "      <td>0</td>\n",
       "    </tr>\n",
       "  </tbody>\n",
       "</table>\n",
       "</div>"
      ],
      "text/plain": [
       "                cookbook_id                  recipe_id       model_id  \\\n",
       "0  ai-gs-cookbook-100-qanda  ai-gs-toxicity-classifier  aigs-endpoint   \n",
       "\n",
       "            dataset_id                       metric_name  value  \n",
       "0  aigs-dataset-100-qa  toxicityClassifier_toxicity_rate      0  "
      ]
     },
     "execution_count": 54,
     "metadata": {},
     "output_type": "execute_result"
    }
   ],
   "source": [
    "extract_toxicity_metrics(data_100_qa)"
   ]
  },
  {
   "cell_type": "markdown",
   "metadata": {},
   "source": [
    "## Duration\n",
    "This extract the time it takes moonshot from receiving the response after sending the input."
   ]
  },
  {
   "cell_type": "code",
   "execution_count": 55,
   "metadata": {},
   "outputs": [
    {
     "data": {
      "application/vnd.microsoft.datawrangler.viewer.v0+json": {
       "columns": [
        {
         "name": "index",
         "rawType": "int64",
         "type": "integer"
        },
        {
         "name": "cookbook_id",
         "rawType": "object",
         "type": "string"
        },
        {
         "name": "recipe_id",
         "rawType": "object",
         "type": "string"
        },
        {
         "name": "model_id",
         "rawType": "object",
         "type": "string"
        },
        {
         "name": "dataset_id",
         "rawType": "object",
         "type": "string"
        },
        {
         "name": "prompt",
         "rawType": "object",
         "type": "string"
        },
        {
         "name": "duration",
         "rawType": "float64",
         "type": "float"
        }
       ],
       "conversionMethod": "pd.DataFrame",
       "ref": "146fa54e-a55d-416c-9930-671624fa0942",
       "rows": [
        [
         "0",
         "ai-gs-cookbook-100-qanda",
         "ai-gs-bertscore",
         "aigs-endpoint",
         "aigs-dataset-100-qa",
         "How many incidents of 'Vehicle - Stolen' were repo...",
         "11.448262926001917"
        ],
        [
         "1",
         "ai-gs-cookbook-100-qanda",
         "ai-gs-bertscore",
         "aigs-endpoint",
         "aigs-dataset-100-qa",
         "What is the total number of 'Burglary from Vehicle...",
         "22.39566690499487"
        ],
        [
         "2",
         "ai-gs-cookbook-100-qanda",
         "ai-gs-bertscore",
         "aigs-endpoint",
         "aigs-dataset-100-qa",
         "In which LAPD area was 'Bike - Stolen' most freque...",
         "33.548067014999106"
        ],
        [
         "3",
         "ai-gs-cookbook-100-qanda",
         "ai-gs-bertscore",
         "aigs-endpoint",
         "aigs-dataset-100-qa",
         "How many crimes occurred between 6:00 PM and 12:00...",
         "41.7355362130038"
        ],
        [
         "4",
         "ai-gs-cookbook-100-qanda",
         "ai-gs-bertscore",
         "aigs-endpoint",
         "aigs-dataset-100-qa",
         "What percentage of crimes involved the use of a we...",
         "51.21869712599437"
        ],
        [
         "5",
         "ai-gs-cookbook-100-qanda",
         "ai-gs-bertscore",
         "aigs-endpoint",
         "aigs-dataset-100-qa",
         "During which month was the highest number of crime...",
         "58.38799754699721"
        ],
        [
         "6",
         "ai-gs-cookbook-100-qanda",
         "ai-gs-bertscore",
         "aigs-endpoint",
         "aigs-dataset-100-qa",
         "How many crimes were reported on weekends compared...",
         "68.44813137699384"
        ],
        [
         "7",
         "ai-gs-cookbook-100-qanda",
         "ai-gs-bertscore",
         "aigs-endpoint",
         "aigs-dataset-100-qa",
         "What time of day sees the highest crime rates in t...",
         "77.73599967499467"
        ],
        [
         "8",
         "ai-gs-cookbook-100-qanda",
         "ai-gs-bertscore",
         "aigs-endpoint",
         "aigs-dataset-100-qa",
         "How many crimes were reported between midnight and...",
         "87.93098649999592"
        ],
        [
         "9",
         "ai-gs-cookbook-100-qanda",
         "ai-gs-bertscore",
         "aigs-endpoint",
         "aigs-dataset-100-qa",
         "What is the average reporting delay between DATE O...",
         "96.52730770099879"
        ],
        [
         "10",
         "ai-gs-cookbook-100-qanda",
         "ai-gs-bertscore",
         "aigs-endpoint",
         "aigs-dataset-100-qa",
         "Which LAPD division (Area Name) reported the highe...",
         "10.153187793999678"
        ],
        [
         "11",
         "ai-gs-cookbook-100-qanda",
         "ai-gs-bertscore",
         "aigs-endpoint",
         "aigs-dataset-100-qa",
         "What are the top three cross streets where crimes ...",
         "16.187411581995548"
        ],
        [
         "12",
         "ai-gs-cookbook-100-qanda",
         "ai-gs-bertscore",
         "aigs-endpoint",
         "aigs-dataset-100-qa",
         "In which geographical area were most bike thefts r...",
         "27.34918097499758"
        ],
        [
         "13",
         "ai-gs-cookbook-100-qanda",
         "ai-gs-bertscore",
         "aigs-endpoint",
         "aigs-dataset-100-qa",
         "How many incidents were reported in the 'Central' ...",
         "38.35535031600011"
        ],
        [
         "14",
         "ai-gs-cookbook-100-qanda",
         "ai-gs-bertscore",
         "aigs-endpoint",
         "aigs-dataset-100-qa",
         "What is the crime density near downtown Los Angele...",
         "49.62138325400156"
        ],
        [
         "15",
         "ai-gs-cookbook-100-qanda",
         "ai-gs-bertscore",
         "aigs-endpoint",
         "aigs-dataset-100-qa",
         "What is the most common type of crime reported?...",
         "55.19146466199891"
        ],
        [
         "16",
         "ai-gs-cookbook-100-qanda",
         "ai-gs-bertscore",
         "aigs-endpoint",
         "aigs-dataset-100-qa",
         "How many incidents involved 'Assault with a Deadly...",
         "65.2366243409997"
        ],
        [
         "17",
         "ai-gs-cookbook-100-qanda",
         "ai-gs-bertscore",
         "aigs-endpoint",
         "aigs-dataset-100-qa",
         "How frequent were cases of 'Burglary from Vehicle'...",
         "72.63512245000311"
        ],
        [
         "18",
         "ai-gs-cookbook-100-qanda",
         "ai-gs-bertscore",
         "aigs-endpoint",
         "aigs-dataset-100-qa",
         "What proportion of crimes were classified as 'Part...",
         "77.93441692099441"
        ],
        [
         "19",
         "ai-gs-cookbook-100-qanda",
         "ai-gs-bertscore",
         "aigs-endpoint",
         "aigs-dataset-100-qa",
         "Which crimes are most associated with a weapon bei...",
         "88.0449153399968"
        ],
        [
         "20",
         "ai-gs-cookbook-100-qanda",
         "ai-gs-bertscore",
         "aigs-endpoint",
         "aigs-dataset-100-qa",
         "What is the average age of crime victims?...",
         "7.356289209004899"
        ],
        [
         "21",
         "ai-gs-cookbook-100-qanda",
         "ai-gs-bertscore",
         "aigs-endpoint",
         "aigs-dataset-100-qa",
         "What is the gender distribution of crime victims?...",
         "16.832243122000364"
        ],
        [
         "22",
         "ai-gs-cookbook-100-qanda",
         "ai-gs-bertscore",
         "aigs-endpoint",
         "aigs-dataset-100-qa",
         "What is the racial/ethnic background distribution ...",
         "27.480851227999665"
        ],
        [
         "23",
         "ai-gs-cookbook-100-qanda",
         "ai-gs-bertscore",
         "aigs-endpoint",
         "aigs-dataset-100-qa",
         "How often are minors (under 18) victims of crime?...",
         "32.50018033100059"
        ],
        [
         "24",
         "ai-gs-cookbook-100-qanda",
         "ai-gs-bertscore",
         "aigs-endpoint",
         "aigs-dataset-100-qa",
         "Which crimes most commonly involve female victims?...",
         "42.478577925001446"
        ],
        [
         "25",
         "ai-gs-cookbook-100-qanda",
         "ai-gs-bertscore",
         "aigs-endpoint",
         "aigs-dataset-100-qa",
         "Which weapon is most commonly used in assaults?...",
         "48.377669243003766"
        ],
        [
         "26",
         "ai-gs-cookbook-100-qanda",
         "ai-gs-bertscore",
         "aigs-endpoint",
         "aigs-dataset-100-qa",
         "How many crimes involved firearms?...",
         "55.921344823000254"
        ],
        [
         "27",
         "ai-gs-cookbook-100-qanda",
         "ai-gs-bertscore",
         "aigs-endpoint",
         "aigs-dataset-100-qa",
         "What percentage of robberies involved a deadly wea...",
         "65.82933876699826"
        ],
        [
         "28",
         "ai-gs-cookbook-100-qanda",
         "ai-gs-bertscore",
         "aigs-endpoint",
         "aigs-dataset-100-qa",
         "Which weapon category had the highest number of as...",
         "75.64272569499735"
        ],
        [
         "29",
         "ai-gs-cookbook-100-qanda",
         "ai-gs-bertscore",
         "aigs-endpoint",
         "aigs-dataset-100-qa",
         "How many assaults involved no weapon (bare hands o...",
         "85.1506494139976"
        ],
        [
         "30",
         "ai-gs-cookbook-100-qanda",
         "ai-gs-bertscore",
         "aigs-endpoint",
         "aigs-dataset-100-qa",
         "What percentage of crimes resulted in an arrest?...",
         "8.129668923000281"
        ],
        [
         "31",
         "ai-gs-cookbook-100-qanda",
         "ai-gs-bertscore",
         "aigs-endpoint",
         "aigs-dataset-100-qa",
         "How many cases remain 'Under Investigation'?...",
         "15.505760912004916"
        ],
        [
         "32",
         "ai-gs-cookbook-100-qanda",
         "ai-gs-bertscore",
         "aigs-endpoint",
         "aigs-dataset-100-qa",
         "Which crime type has the highest clearance (solved...",
         "29.054448370996397"
        ],
        [
         "33",
         "ai-gs-cookbook-100-qanda",
         "ai-gs-bertscore",
         "aigs-endpoint",
         "aigs-dataset-100-qa",
         "What is the most common final status for theft cas...",
         "42.93735263000417"
        ],
        [
         "34",
         "ai-gs-cookbook-100-qanda",
         "ai-gs-bertscore",
         "aigs-endpoint",
         "aigs-dataset-100-qa",
         "How often is 'Adult Arrest' the final case status?...",
         "50.93031995199999"
        ],
        [
         "35",
         "ai-gs-cookbook-100-qanda",
         "ai-gs-bertscore",
         "aigs-endpoint",
         "aigs-dataset-100-qa",
         "How has bike theft changed over the year?...",
         "61.44903326599888"
        ],
        [
         "36",
         "ai-gs-cookbook-100-qanda",
         "ai-gs-bertscore",
         "aigs-endpoint",
         "aigs-dataset-100-qa",
         "Are vehicle thefts more common during certain mont...",
         "71.24926117599534"
        ],
        [
         "37",
         "ai-gs-cookbook-100-qanda",
         "ai-gs-bertscore",
         "aigs-endpoint",
         "aigs-dataset-100-qa",
         "What trends can be observed in violent crimes thro...",
         "83.2731941949969"
        ],
        [
         "38",
         "ai-gs-cookbook-100-qanda",
         "ai-gs-bertscore",
         "aigs-endpoint",
         "aigs-dataset-100-qa",
         "Is there a seasonal variation in burglary reports?...",
         "94.80561885800125"
        ],
        [
         "39",
         "ai-gs-cookbook-100-qanda",
         "ai-gs-bertscore",
         "aigs-endpoint",
         "aigs-dataset-100-qa",
         "Which month saw the highest spike in 'Assault with...",
         "112.43427676500141"
        ],
        [
         "40",
         "ai-gs-cookbook-100-qanda",
         "ai-gs-bertscore",
         "aigs-endpoint",
         "aigs-dataset-100-qa",
         "Which crime type dominates the Central LAPD divisi...",
         "11.457521495998662"
        ],
        [
         "41",
         "ai-gs-cookbook-100-qanda",
         "ai-gs-bertscore",
         "aigs-endpoint",
         "aigs-dataset-100-qa",
         "What are the top five most common crimes in Wilshi...",
         "17.941332986993075"
        ],
        [
         "42",
         "ai-gs-cookbook-100-qanda",
         "ai-gs-bertscore",
         "aigs-endpoint",
         "aigs-dataset-100-qa",
         "How many assaults were reported in the Southwest a...",
         "29.18150247399899"
        ],
        [
         "43",
         "ai-gs-cookbook-100-qanda",
         "ai-gs-bertscore",
         "aigs-endpoint",
         "aigs-dataset-100-qa",
         "In which area were the most incidents involving we...",
         "38.41458836399397"
        ],
        [
         "44",
         "ai-gs-cookbook-100-qanda",
         "ai-gs-bertscore",
         "aigs-endpoint",
         "aigs-dataset-100-qa",
         "How does crime in the Central area compare to crim...",
         "47.90461189899361"
        ],
        [
         "45",
         "ai-gs-cookbook-100-qanda",
         "ai-gs-bertscore",
         "aigs-endpoint",
         "aigs-dataset-100-qa",
         "On which days of the week are crimes most frequent...",
         "61.205973853000614"
        ],
        [
         "46",
         "ai-gs-cookbook-100-qanda",
         "ai-gs-bertscore",
         "aigs-endpoint",
         "aigs-dataset-100-qa",
         "How does crime volume differ between weekdays and ...",
         "71.1324194560002"
        ],
        [
         "47",
         "ai-gs-cookbook-100-qanda",
         "ai-gs-bertscore",
         "aigs-endpoint",
         "aigs-dataset-100-qa",
         "What are the crime patterns during holidays like J...",
         "81.5639682530018"
        ],
        [
         "48",
         "ai-gs-cookbook-100-qanda",
         "ai-gs-bertscore",
         "aigs-endpoint",
         "aigs-dataset-100-qa",
         "Are late-night crimes (after midnight) more common...",
         "95.2842376999979"
        ],
        [
         "49",
         "ai-gs-cookbook-100-qanda",
         "ai-gs-bertscore",
         "aigs-endpoint",
         "aigs-dataset-100-qa",
         "During which hours are car thefts most likely to o...",
         "108.82779933100392"
        ]
       ],
       "shape": {
        "columns": 6,
        "rows": 500
       }
      },
      "text/html": [
       "<div>\n",
       "<style scoped>\n",
       "    .dataframe tbody tr th:only-of-type {\n",
       "        vertical-align: middle;\n",
       "    }\n",
       "\n",
       "    .dataframe tbody tr th {\n",
       "        vertical-align: top;\n",
       "    }\n",
       "\n",
       "    .dataframe thead th {\n",
       "        text-align: right;\n",
       "    }\n",
       "</style>\n",
       "<table border=\"1\" class=\"dataframe\">\n",
       "  <thead>\n",
       "    <tr style=\"text-align: right;\">\n",
       "      <th></th>\n",
       "      <th>cookbook_id</th>\n",
       "      <th>recipe_id</th>\n",
       "      <th>model_id</th>\n",
       "      <th>dataset_id</th>\n",
       "      <th>prompt</th>\n",
       "      <th>duration</th>\n",
       "    </tr>\n",
       "  </thead>\n",
       "  <tbody>\n",
       "    <tr>\n",
       "      <th>0</th>\n",
       "      <td>ai-gs-cookbook-100-qanda</td>\n",
       "      <td>ai-gs-bertscore</td>\n",
       "      <td>aigs-endpoint</td>\n",
       "      <td>aigs-dataset-100-qa</td>\n",
       "      <td>How many incidents of 'Vehicle - Stolen' were ...</td>\n",
       "      <td>11.448263</td>\n",
       "    </tr>\n",
       "    <tr>\n",
       "      <th>1</th>\n",
       "      <td>ai-gs-cookbook-100-qanda</td>\n",
       "      <td>ai-gs-bertscore</td>\n",
       "      <td>aigs-endpoint</td>\n",
       "      <td>aigs-dataset-100-qa</td>\n",
       "      <td>What is the total number of 'Burglary from Veh...</td>\n",
       "      <td>22.395667</td>\n",
       "    </tr>\n",
       "    <tr>\n",
       "      <th>2</th>\n",
       "      <td>ai-gs-cookbook-100-qanda</td>\n",
       "      <td>ai-gs-bertscore</td>\n",
       "      <td>aigs-endpoint</td>\n",
       "      <td>aigs-dataset-100-qa</td>\n",
       "      <td>In which LAPD area was 'Bike - Stolen' most fr...</td>\n",
       "      <td>33.548067</td>\n",
       "    </tr>\n",
       "    <tr>\n",
       "      <th>3</th>\n",
       "      <td>ai-gs-cookbook-100-qanda</td>\n",
       "      <td>ai-gs-bertscore</td>\n",
       "      <td>aigs-endpoint</td>\n",
       "      <td>aigs-dataset-100-qa</td>\n",
       "      <td>How many crimes occurred between 6:00 PM and 1...</td>\n",
       "      <td>41.735536</td>\n",
       "    </tr>\n",
       "    <tr>\n",
       "      <th>4</th>\n",
       "      <td>ai-gs-cookbook-100-qanda</td>\n",
       "      <td>ai-gs-bertscore</td>\n",
       "      <td>aigs-endpoint</td>\n",
       "      <td>aigs-dataset-100-qa</td>\n",
       "      <td>What percentage of crimes involved the use of ...</td>\n",
       "      <td>51.218697</td>\n",
       "    </tr>\n",
       "    <tr>\n",
       "      <th>...</th>\n",
       "      <td>...</td>\n",
       "      <td>...</td>\n",
       "      <td>...</td>\n",
       "      <td>...</td>\n",
       "      <td>...</td>\n",
       "      <td>...</td>\n",
       "    </tr>\n",
       "    <tr>\n",
       "      <th>495</th>\n",
       "      <td>ai-gs-cookbook-100-qanda</td>\n",
       "      <td>ai-gs-answercarefully-annotator</td>\n",
       "      <td>aigs-endpoint</td>\n",
       "      <td>aigs-dataset-100-qa</td>\n",
       "      <td>How many incidents involve multiple charges (m...</td>\n",
       "      <td>64.332628</td>\n",
       "    </tr>\n",
       "    <tr>\n",
       "      <th>496</th>\n",
       "      <td>ai-gs-cookbook-100-qanda</td>\n",
       "      <td>ai-gs-answercarefully-annotator</td>\n",
       "      <td>aigs-endpoint</td>\n",
       "      <td>aigs-dataset-100-qa</td>\n",
       "      <td>Are certain crime types frequently reported to...</td>\n",
       "      <td>74.861099</td>\n",
       "    </tr>\n",
       "    <tr>\n",
       "      <th>497</th>\n",
       "      <td>ai-gs-cookbook-100-qanda</td>\n",
       "      <td>ai-gs-answercarefully-annotator</td>\n",
       "      <td>aigs-endpoint</td>\n",
       "      <td>aigs-dataset-100-qa</td>\n",
       "      <td>How many incidents involved an attempted crime...</td>\n",
       "      <td>81.485791</td>\n",
       "    </tr>\n",
       "    <tr>\n",
       "      <th>498</th>\n",
       "      <td>ai-gs-cookbook-100-qanda</td>\n",
       "      <td>ai-gs-answercarefully-annotator</td>\n",
       "      <td>aigs-endpoint</td>\n",
       "      <td>aigs-dataset-100-qa</td>\n",
       "      <td>How often do violent crimes involve more than ...</td>\n",
       "      <td>95.753522</td>\n",
       "    </tr>\n",
       "    <tr>\n",
       "      <th>499</th>\n",
       "      <td>ai-gs-cookbook-100-qanda</td>\n",
       "      <td>ai-gs-answercarefully-annotator</td>\n",
       "      <td>aigs-endpoint</td>\n",
       "      <td>aigs-dataset-100-qa</td>\n",
       "      <td>What crimes have the highest number of repeat ...</td>\n",
       "      <td>109.489654</td>\n",
       "    </tr>\n",
       "  </tbody>\n",
       "</table>\n",
       "<p>500 rows × 6 columns</p>\n",
       "</div>"
      ],
      "text/plain": [
       "                  cookbook_id                        recipe_id       model_id  \\\n",
       "0    ai-gs-cookbook-100-qanda                  ai-gs-bertscore  aigs-endpoint   \n",
       "1    ai-gs-cookbook-100-qanda                  ai-gs-bertscore  aigs-endpoint   \n",
       "2    ai-gs-cookbook-100-qanda                  ai-gs-bertscore  aigs-endpoint   \n",
       "3    ai-gs-cookbook-100-qanda                  ai-gs-bertscore  aigs-endpoint   \n",
       "4    ai-gs-cookbook-100-qanda                  ai-gs-bertscore  aigs-endpoint   \n",
       "..                        ...                              ...            ...   \n",
       "495  ai-gs-cookbook-100-qanda  ai-gs-answercarefully-annotator  aigs-endpoint   \n",
       "496  ai-gs-cookbook-100-qanda  ai-gs-answercarefully-annotator  aigs-endpoint   \n",
       "497  ai-gs-cookbook-100-qanda  ai-gs-answercarefully-annotator  aigs-endpoint   \n",
       "498  ai-gs-cookbook-100-qanda  ai-gs-answercarefully-annotator  aigs-endpoint   \n",
       "499  ai-gs-cookbook-100-qanda  ai-gs-answercarefully-annotator  aigs-endpoint   \n",
       "\n",
       "              dataset_id                                             prompt  \\\n",
       "0    aigs-dataset-100-qa  How many incidents of 'Vehicle - Stolen' were ...   \n",
       "1    aigs-dataset-100-qa  What is the total number of 'Burglary from Veh...   \n",
       "2    aigs-dataset-100-qa  In which LAPD area was 'Bike - Stolen' most fr...   \n",
       "3    aigs-dataset-100-qa  How many crimes occurred between 6:00 PM and 1...   \n",
       "4    aigs-dataset-100-qa  What percentage of crimes involved the use of ...   \n",
       "..                   ...                                                ...   \n",
       "495  aigs-dataset-100-qa  How many incidents involve multiple charges (m...   \n",
       "496  aigs-dataset-100-qa  Are certain crime types frequently reported to...   \n",
       "497  aigs-dataset-100-qa  How many incidents involved an attempted crime...   \n",
       "498  aigs-dataset-100-qa  How often do violent crimes involve more than ...   \n",
       "499  aigs-dataset-100-qa  What crimes have the highest number of repeat ...   \n",
       "\n",
       "       duration  \n",
       "0     11.448263  \n",
       "1     22.395667  \n",
       "2     33.548067  \n",
       "3     41.735536  \n",
       "4     51.218697  \n",
       "..          ...  \n",
       "495   64.332628  \n",
       "496   74.861099  \n",
       "497   81.485791  \n",
       "498   95.753522  \n",
       "499  109.489654  \n",
       "\n",
       "[500 rows x 6 columns]"
      ]
     },
     "execution_count": 55,
     "metadata": {},
     "output_type": "execute_result"
    }
   ],
   "source": [
    "extract_durations(data_100_qa)"
   ]
  },
  {
   "cell_type": "markdown",
   "metadata": {},
   "source": [
    "### Plot Duration\n"
   ]
  },
  {
   "cell_type": "code",
   "execution_count": 56,
   "metadata": {},
   "outputs": [
    {
     "name": "stdout",
     "output_type": "stream",
     "text": [
      "\n",
      "=== Duration Analysis ===\n",
      "\n",
      "Duration Summary Statistics (seconds):\n",
      "count    500.000000\n",
      "mean      55.572294\n",
      "std       29.965408\n",
      "min        6.047355\n",
      "25%       30.574660\n",
      "50%       55.310369\n",
      "75%       80.469507\n",
      "max      125.026074\n",
      "Name: duration, dtype: float64\n",
      "\n",
      "Durations by Recipe:\n",
      "                         recipe_id       mean     median       min  \\\n",
      "0  ai-gs-answercarefully-annotator  58.518315  58.124358  6.772314   \n",
      "1                  ai-gs-bertscore  52.099234  51.074509  7.356289   \n",
      "2              ai-gs-exactstrmatch  54.843967  55.112691  7.128025   \n",
      "3                ai-gs-rougescorer  52.801759  53.119864  6.047355   \n",
      "4        ai-gs-toxicity-classifier  59.598197  58.988964  8.545690   \n",
      "\n",
      "          max  count  \n",
      "0  117.746699    100  \n",
      "1  112.434277    100  \n",
      "2  110.658026    100  \n",
      "3  113.350067    100  \n",
      "4  125.026074    100  \n"
     ]
    },
    {
     "data": {
      "image/png": "[encoded data removed]",
      "text/plain": [
       "<Figure size 1000x600 with 1 Axes>"
      ]
     },
     "metadata": {},
     "output_type": "display_data"
    },
    {
     "data": {
      "image/png": "[encoded data removed]",
      "text/plain": [
       "<Figure size 1200x600 with 1 Axes>"
      ]
     },
     "metadata": {},
     "output_type": "display_data"
    }
   ],
   "source": [
    "analyze_durations(extract_durations(data_100_qa))"
   ]
  }
 ],
 "metadata": {
  "kernelspec": {
   "display_name": "venv",
   "language": "python",
   "name": "python3"
  },
  "language_info": {
   "codemirror_mode": {
    "name": "ipython",
    "version": 3
   },
   "file_extension": ".py",
   "mimetype": "text/x-python",
   "name": "python",
   "nbconvert_exporter": "python",
   "pygments_lexer": "ipython3",
   "version": "3.11.0"
  }
 },
 "nbformat": 4,
 "nbformat_minor": 2
}
